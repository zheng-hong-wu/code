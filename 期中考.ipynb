{
  "nbformat": 4,
  "nbformat_minor": 0,
  "metadata": {
    "colab": {
      "provenance": []
    },
    "kernelspec": {
      "name": "python3",
      "display_name": "Python 3"
    },
    "language_info": {
      "name": "python"
    }
  },
  "cells": [
    {
      "cell_type": "markdown",
      "source": [
        "**考題共五題，所有的程式必須在Colab 上執行，存檔前請先執行過一遍再下載，然後上傳Moodle**"
      ],
      "metadata": {
        "id": "K9Zf9pPmk0G7"
      }
    },
    {
      "cell_type": "markdown",
      "source": [
        "**一、請根據以下購物資料，使用 Apriori 找出 support > 0.3 且 confidence > 0.7 的關聯規則**"
      ],
      "metadata": {
        "id": "RWMtMCYGa-sQ"
      }
    },
    {
      "cell_type": "code",
      "execution_count": 1,
      "metadata": {
        "id": "ncrHFvZNa4NL"
      },
      "outputs": [],
      "source": [
        "from mlxtend.frequent_patterns import apriori, association_rules\n",
        "from mlxtend.preprocessing import TransactionEncoder\n",
        "import pandas as pd\n",
        "\n",
        "dataset = [\n",
        "    ['milk', 'bread', 'eggs'],\n",
        "    ['milk', 'bread'],\n",
        "    ['milk', 'eggs'],\n",
        "    ['bread', 'eggs'],\n",
        "    ['milk', 'bread', 'eggs'],\n",
        "    ['bread', 'eggs']\n",
        "]\n",
        "\n",
        "# TODO: 將資料轉換為 DataFrame 並找出滿足條件的規則\n"
      ]
    },
    {
      "cell_type": "code",
      "source": [
        "# 資料轉換與關聯規則分析\n",
        "from mlxtend.preprocessing import TransactionEncoder\n",
        "from mlxtend.frequent_patterns import apriori, association_rules\n",
        "import pandas as pd\n",
        "\n",
        "dataset = [\n",
        "    ['milk', 'bread', 'eggs'],\n",
        "    ['milk', 'bread'],\n",
        "    ['milk', 'eggs'],\n",
        "    ['bread', 'eggs'],\n",
        "    ['milk', 'bread', 'eggs'],\n",
        "    ['bread', 'eggs']\n",
        "]\n",
        "\n",
        "# 轉換交易資料為布林矩陣\n",
        "te = TransactionEncoder()\n",
        "te_ary = te.fit_transform(dataset)\n",
        "df = pd.DataFrame(te_ary, columns=te.columns_)\n",
        "\n",
        "# 計算頻繁項集（最小支持度0.3）\n",
        "frequent_itemsets = apriori(df, min_support=0.3, use_colnames=True)\n",
        "\n",
        "# 產生關聯規則（最小置信度0.7）\n",
        "rules = association_rules(frequent_itemsets, metric=\"confidence\", min_threshold=0.7)\n",
        "\n",
        "# 篩選最終結果\n",
        "final_rules = rules[(rules['support'] > 0.3) & (rules['confidence'] > 0.7)]\n",
        "print(final_rules[['antecedents', 'consequents', 'support', 'confidence', 'lift']])"
      ],
      "metadata": {
        "id": "TxnJlSEJbBL7",
        "outputId": "7b06dc95-615e-4608-e563-09e5474d9def",
        "colab": {
          "base_uri": "https://localhost:8080/"
        }
      },
      "execution_count": 2,
      "outputs": [
        {
          "output_type": "stream",
          "name": "stdout",
          "text": [
            "  antecedents consequents   support  confidence  lift\n",
            "0     (bread)      (eggs)  0.666667        0.80  0.96\n",
            "1      (eggs)     (bread)  0.666667        0.80  0.96\n",
            "2      (milk)     (bread)  0.500000        0.75  0.90\n",
            "3      (milk)      (eggs)  0.500000        0.75  0.90\n"
          ]
        }
      ]
    },
    {
      "cell_type": "markdown",
      "source": [
        "**二、根據帳單金額和客服次數，建立模型來預測客戶是否流失**"
      ],
      "metadata": {
        "id": "3TYNoMmLbnaS"
      }
    },
    {
      "cell_type": "code",
      "source": [
        "from sklearn.linear_model import LogisticRegression\n",
        "import numpy as np\n",
        "\n",
        "X = np.array([\n",
        "    [100, 1],\n",
        "    [200, 3],\n",
        "    [150, 2],\n",
        "    [300, 5],\n",
        "    [250, 4]\n",
        "])\n",
        "y = np.array([0, 1, 0, 1, 1])  # 0:未流失, 1:已流失\n",
        "\n",
        "# TODO: 建立 Logistic Regression 並預測 [180, 3] 的流失可能性"
      ],
      "metadata": {
        "id": "yd2AfKOkbmiq"
      },
      "execution_count": 3,
      "outputs": []
    },
    {
      "cell_type": "code",
      "source": [
        "from sklearn.linear_model import LogisticRegression\n",
        "import numpy as np\n",
        "\n",
        "# 原始數據\n",
        "X = np.array([\n",
        "    [100, 1],  # 帳單金額, 客服聯繫次數\n",
        "    [200, 3],\n",
        "    [150, 2],\n",
        "    [300, 5],\n",
        "    [250, 4]\n",
        "])\n",
        "y = np.array([0, 1, 0, 1, 1])  # 0:未流失, 1:已流失\n",
        "\n",
        "# 建立模型\n",
        "model = LogisticRegression()\n",
        "model.fit(X, y)\n",
        "\n",
        "# 預測新數據 [180,3]\n",
        "new_data = np.array([[180, 3]])\n",
        "churn_prob = model.predict_proba(new_data)[0][1]  # 取得流失機率\n",
        "print(f\"流失機率: {churn_prob:.2%}\")"
      ],
      "metadata": {
        "id": "qC75whyFbF-c",
        "outputId": "5722cfaf-d89b-4a7c-f865-776742c4ab48",
        "colab": {
          "base_uri": "https://localhost:8080/"
        }
      },
      "execution_count": 4,
      "outputs": [
        {
          "output_type": "stream",
          "name": "stdout",
          "text": [
            "流失機率: 74.81%\n"
          ]
        }
      ]
    },
    {
      "cell_type": "markdown",
      "source": [
        "**三、根據轉移機率矩陣，預測未來 5 天的天氣**"
      ],
      "metadata": {
        "id": "vCHUbuvYcMge"
      }
    },
    {
      "cell_type": "code",
      "source": [
        "import numpy as np\n",
        "\n",
        "states = ['Sunny', 'Rainy']\n",
        "transition_matrix = [[0.8, 0.2], [0.4, 0.6]]\n",
        "initial_state = [1.0, 0.0]  # 第一天是晴天\n",
        "\n",
        "# TODO: 實作 Markov 過程，模擬 5 天的天氣狀態"
      ],
      "metadata": {
        "id": "5TgO2MdZcSID"
      },
      "execution_count": 5,
      "outputs": []
    },
    {
      "cell_type": "code",
      "source": [
        "import numpy as np\n",
        "\n",
        "# 定義狀態與轉移矩陣\n",
        "states = ['Sunny', 'Rainy']\n",
        "transition_matrix = np.array([\n",
        "    [0.8, 0.2],  # 晴天時的轉移機率\n",
        "    [0.4, 0.6]   # 雨天時的轉移機率\n",
        "])\n",
        "initial_state = 0  # 初始狀態索引(0代表Sunny)\n",
        "\n",
        "# 設置隨機種子確保可重現性\n",
        "np.random.seed(42)\n",
        "\n",
        "# 模擬5天狀態序列\n",
        "num_days = 5\n",
        "current_state = initial_state\n",
        "weather_sequence = [states[current_state]]  # 初始化第一天\n",
        "\n",
        "for day in range(1, num_days):\n",
        "    # 根據當前狀態選擇轉移機率\n",
        "    next_state = np.random.choice(\n",
        "        [0, 1],\n",
        "        p=transition_matrix[current_state]\n",
        "    )\n",
        "    weather_sequence.append(states[next_state])\n",
        "    current_state = next_state\n",
        "\n",
        "print(\"預測天氣序列:\", weather_sequence)"
      ],
      "metadata": {
        "id": "kR1eCng4cVeO",
        "outputId": "0f8dd210-37c3-4a24-e464-35c54002919d",
        "colab": {
          "base_uri": "https://localhost:8080/"
        }
      },
      "execution_count": 6,
      "outputs": [
        {
          "output_type": "stream",
          "name": "stdout",
          "text": [
            "預測天氣序列: ['Sunny', 'Sunny', 'Rainy', 'Rainy', 'Rainy']\n"
          ]
        }
      ]
    },
    {
      "cell_type": "markdown",
      "source": [
        "**四、請使用 SVM 模型對 Iris 資料集進行分類，並預測一筆新資料屬於哪一類**\n",
        "\n",
        "---\n",
        "\n"
      ],
      "metadata": {
        "id": "foFht0_Mc0RH"
      }
    },
    {
      "cell_type": "code",
      "source": [
        "from sklearn import datasets\n",
        "from sklearn.svm import SVC\n",
        "from sklearn.model_selection import train_test_split\n",
        "from sklearn.metrics import classification_report\n",
        "\n",
        "# 載入資料\n",
        "iris = datasets.load_iris()\n",
        "X = iris.data\n",
        "y = iris.target\n",
        "\n",
        "# TODO:\n",
        "# 1. 將資料切分為訓練集與測試集（test_size=0.3）\n",
        "# 2. 使用 SVM 建立模型\n",
        "# 3. 評估模型表現\n",
        "# 4. 預測以下資料：[5.1, 3.5, 1.4, 0.2]\n"
      ],
      "metadata": {
        "id": "xYcrFC9Vc0j3"
      },
      "execution_count": 7,
      "outputs": []
    },
    {
      "cell_type": "code",
      "source": [
        "from sklearn import datasets\n",
        "from sklearn.svm import SVC\n",
        "from sklearn.model_selection import train_test_split\n",
        "from sklearn.metrics import classification_report\n",
        "\n",
        "# 1. 載入資料\n",
        "iris = datasets.load_iris()\n",
        "X = iris.data\n",
        "y = iris.target\n",
        "\n",
        "# 2. 資料切分（70%訓練集, 30%測試集）\n",
        "X_train, X_test, y_train, y_test = train_test_split(\n",
        "    X, y, test_size=0.3, random_state=42\n",
        ")\n",
        "\n",
        "# 3. 建立並訓練SVM模型\n",
        "svm_model = SVC(kernel='linear', random_state=42)\n",
        "svm_model.fit(X_train, y_train)\n",
        "\n",
        "# 4. 預測測試集並評估模型表現\n",
        "y_pred = svm_model.predict(X_test)\n",
        "print(\"=== 模型評估報告 ===\")\n",
        "print(classification_report(y_test, y_pred, target_names=iris.target_names))\n",
        "\n",
        "# 5. 預測新資料\n",
        "new_data = [[5.1, 3.5, 1.4, 0.2]]\n",
        "predicted_class = svm_model.predict(new_data)\n",
        "print(\"\\n新資料預測結果：\", iris.target_names[predicted_class[0]])"
      ],
      "metadata": {
        "id": "E-LEKTXninqq",
        "outputId": "c4bb3618-3413-466f-9164-fed04b894a1e",
        "colab": {
          "base_uri": "https://localhost:8080/"
        }
      },
      "execution_count": 8,
      "outputs": [
        {
          "output_type": "stream",
          "name": "stdout",
          "text": [
            "=== 模型評估報告 ===\n",
            "              precision    recall  f1-score   support\n",
            "\n",
            "      setosa       1.00      1.00      1.00        19\n",
            "  versicolor       1.00      1.00      1.00        13\n",
            "   virginica       1.00      1.00      1.00        13\n",
            "\n",
            "    accuracy                           1.00        45\n",
            "   macro avg       1.00      1.00      1.00        45\n",
            "weighted avg       1.00      1.00      1.00        45\n",
            "\n",
            "\n",
            "新資料預測結果： setosa\n"
          ]
        }
      ]
    },
    {
      "cell_type": "markdown",
      "source": [
        "**五、貝氏網路**\n",
        "圖片是小明是否遲到的影響因子關係圖，試以Monte Carlo 方法回答以下問題。\n",
        "\n",
        "1. 計算小明平常準時到校的機率\n",
        "2. 計算當小明遲到，在巴士準點的條件下他鬧鐘沒響的機率\n",
        "3. 計算當鬧鐘有響且巴士遲到小明準時到校的機率\n",
        "\n",
        "![小明的遲到與否圖](https://www.uib.no/sites/w3.uib.no/files/styles/content_main/public/media/bn1.png?itok=b97X0BPn&timestamp=1579195494 \"Bayesian Network\")"
      ],
      "metadata": {
        "id": "txmFj0GFioB2"
      }
    },
    {
      "cell_type": "code",
      "source": [
        "# TODO:\n",
        "# 1. 計算該生平常準時到校的機率\n",
        "# 2. 計算當該生遲到，在巴士準點的條件下他鬧鐘沒響的機率\n",
        "# 3. 計算當鬧鐘有響且巴士遲到該生準時到校的機率\n"
      ],
      "metadata": {
        "id": "ExXYofQMj_t4"
      },
      "execution_count": 9,
      "outputs": []
    },
    {
      "cell_type": "markdown",
      "source": [
        "第一題：小明平常準時到校的機率\n",
        "根據Monte Carlo模擬分析，小明平常準時到校的機率為：\n",
        "P(On Time = yes) = 0.67041 ≈ 67.04%\n",
        "\n",
        "這意味著小明大約有三分之二的機會能夠準時到校。此概率是透過100,000次模擬計算得出，綜合考慮了鬧鐘、巴士準點和是否睡過頭等多個因素的影響。\n",
        "\n",
        "第二題：當小明遲到且巴士準點時鬧鐘沒響的機率\n",
        "在小明遲到且巴士準時的條件下，其鬧鐘沒響的條件機率為：\n",
        "P(Alarm Off | Late, Bus On Time) = 0.30363 ≈ 30.36%\n",
        "\n",
        "此結果表明，當小明遲到且巴士準時的情況下，大約有30%的可能是因為鬧鐘沒有響。這反映了鬧鐘對小明準時到校有重要但非唯一決定性的影響。\n",
        "\n",
        "第三題：當鬧鐘有響且巴士遲到時小明準時到校的機率\n",
        "在鬧鐘響了且巴士遲到的條件下，小明準時到校的條件機率為：\n",
        "P(On Time | Alarm On, Bus Late) = 0.19054 ≈ 19.05%\n",
        "\n",
        "這個相對較低的機率顯示，即使鬧鐘有響，巴士遲到仍然會顯著降低小明準時到校的可能性。這表明外部因素（巴士遲到）對小明準時到校的影響可能大於個人因素（鬧鐘有響）。\n",
        "\n",
        "\n"
      ],
      "metadata": {
        "id": "24b0ThXmj5SH"
      }
    },
    {
      "cell_type": "code",
      "source": [
        "import numpy as np\n",
        "\n",
        "# 參數設定\n",
        "P_BusLate = 0.2\n",
        "P_AlarmOn = 0.9\n",
        "\n",
        "# 條件機率\n",
        "P_Overslept_given_AlarmOn = 0.1\n",
        "P_Overslept_given_AlarmOff = 0.9\n",
        "P_OnTime_given_BusOvers = {\n",
        "    (\"yes\", \"yes\"): 0.1,\n",
        "    (\"yes\", \"no\"): 0.2,\n",
        "    (\"no\", \"yes\"): 0.3,\n",
        "    (\"no\", \"no\"): 0.9\n",
        "}\n",
        "\n",
        "n_simulations = 100000\n",
        "\n",
        "# 統計變數\n",
        "on_time_count = 0\n",
        "late_bus_alarm_off_count = 0\n",
        "on_time_alarm_bus_late_count = 0\n",
        "late_and_bus_on_time_count = 0\n",
        "alarm_off_and_late_and_bus_on_time_count = 0\n",
        "alarm_on_and_bus_late_count = 0\n",
        "\n",
        "for _ in range(n_simulations):\n",
        "    # 模擬 Bus 是否遲到\n",
        "    bus_late = np.random.rand() < P_BusLate\n",
        "\n",
        "    # 模擬 Alarm 是否響\n",
        "    alarm_on = np.random.rand() < P_AlarmOn\n",
        "\n",
        "    # 模擬是否睡過頭\n",
        "    if alarm_on:\n",
        "        overslept = np.random.rand() < P_Overslept_given_AlarmOn\n",
        "    else:\n",
        "        overslept = np.random.rand() < P_Overslept_given_AlarmOff\n",
        "\n",
        "    # 模擬是否準時到校\n",
        "    on_time = np.random.rand() < P_OnTime_given_BusOvers[(\"yes\" if bus_late else \"no\", \"yes\" if overslept else \"no\")]\n",
        "\n",
        "    # 第一題：計算準時到校的機率\n",
        "    if on_time:\n",
        "        on_time_count += 1\n",
        "\n",
        "    # 第二題：計算在遲到且巴士準點下，鬧鐘沒響的機率\n",
        "    if not on_time and not bus_late:\n",
        "        late_and_bus_on_time_count += 1\n",
        "        if not alarm_on:\n",
        "            alarm_off_and_late_and_bus_on_time_count += 1\n",
        "\n",
        "    # 第三題：計算鬧鐘響且巴士遲到時準時到校的機率\n",
        "    if alarm_on and bus_late:\n",
        "        alarm_on_and_bus_late_count += 1\n",
        "        if on_time:\n",
        "            on_time_alarm_bus_late_count += 1\n",
        "\n",
        "# 機率計算\n",
        "P_OnTime = on_time_count / n_simulations\n",
        "P_AlarmOff_given_Late_BusOnTime = (alarm_off_and_late_and_bus_on_time_count / late_and_bus_on_time_count) if late_and_bus_on_time_count > 0 else 0\n",
        "P_OnTime_given_AlarmOn_BusLate = (on_time_alarm_bus_late_count / alarm_on_and_bus_late_count) if alarm_on_and_bus_late_count > 0 else 0\n",
        "\n",
        "print(\"1. 小明平常準時到校的機率：\", round(P_OnTime, 5))\n",
        "print(\"2. 小明遲到且巴士準點時，鬧鐘沒響的機率：\", round(P_AlarmOff_given_Late_BusOnTime, 5))\n",
        "print(\"3. 鬧鐘響且巴士遲到時，小明準時到校的機率：\", round(P_OnTime_given_AlarmOn_BusLate, 5))\n"
      ],
      "metadata": {
        "id": "1OwNUZDP_DcQ",
        "outputId": "09f93623-a04f-45e7-ca84-f368017f484a",
        "colab": {
          "base_uri": "https://localhost:8080/"
        }
      },
      "execution_count": 10,
      "outputs": [
        {
          "output_type": "stream",
          "name": "stdout",
          "text": [
            "1. 小明平常準時到校的機率： 0.67018\n",
            "2. 小明遲到且巴士準點時，鬧鐘沒響的機率： 0.3021\n",
            "3. 鬧鐘響且巴士遲到時，小明準時到校的機率： 0.18711\n"
          ]
        }
      ]
    },
    {
      "cell_type": "code",
      "source": [],
      "metadata": {
        "id": "4um8vZjd_L5R"
      },
      "execution_count": 10,
      "outputs": []
    }
  ]
}