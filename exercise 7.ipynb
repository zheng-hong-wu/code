{
 "cells": [
  {
   "cell_type": "markdown",
   "id": "895b72ff",
   "metadata": {},
   "source": [
    "## <font color=\"red\">練習1</font>"
   ]
  },
  {
   "cell_type": "markdown",
   "id": "e50fe62d",
   "metadata": {},
   "source": [
    "### Exercise 7.1"
   ]
  },
  {
   "cell_type": "code",
   "execution_count": null,
   "id": "eb96229b",
   "metadata": {},
   "outputs": [],
   "source": [
    "import math\n",
    "\n",
    "def mysqrt(a):\n",
    "    \"\"\"Calculates square root using Newton's method:\n",
    "    https://en.wikipedia.org/wiki/Newton's_method\n",
    "    \n",
    "    a - positive integer < 0;\n",
    "    x - estimated value, in this case a/2\n",
    "    \"\"\"\n",
    "    x = a/2\n",
    "    while True:\n",
    "        estimated_root = (x + a/x) / 2\n",
    "        if estimated_root == x:\n",
    "            return estimated_root\n",
    "            break\n",
    "        x = estimated_root\n",
    "\n",
    "def test_square_root(list_of_a):\n",
    "    \"\"\"Displays outcomes of calculating square root of a using different methods;\n",
    "    list_of_a - list of positive digit.\n",
    "    \"\"\"\n",
    "    line1a = \"a\"\n",
    "    line1b = \"mysqrt(a)\"\n",
    "    line1c = \"math.sqrt(a)\"\n",
    "    line1d = \"diff\"\n",
    "    \n",
    "    line2a = \"-\"\n",
    "    line2b = \"---------\"\n",
    "    line2c = \"------------\"\n",
    "    line2d = \"----\"\n",
    "    \n",
    "    spacing1 = \" \"\n",
    "    spacing2 = \" \" * 3\n",
    "    spacing3 = \"\"\n",
    "    \n",
    "    print(line1a, spacing1, line1b, spacing2, line1c, spacing3, line1d)\n",
    "    print(line2a, spacing1, line2b, spacing2, line2c, spacing3, line2d)\n",
    "    \n",
    "    for a in list_of_a:\n",
    "        col1 = float(a)\n",
    "        col2 = mysqrt(a)\n",
    "        col3 = math.sqrt(a)\n",
    "        col4 = abs(mysqrt(a) - math.sqrt(a))\n",
    "\n",
    "        print(col1, \"{:<13f}\".format(col2), \"{:<13f}\".format(col3), col4)\n",
    "\n",
    "test_square_root(range(1,10))"
   ]
  },
  {
   "cell_type": "markdown",
   "id": "e0b82c34",
   "metadata": {},
   "source": [
    "### Exercise 7.2"
   ]
  },
  {
   "cell_type": "code",
   "execution_count": null,
   "id": "ae9b5b5d",
   "metadata": {},
   "outputs": [],
   "source": [
    "def eval_loop():\n",
    "    \"\"\"Iteratively prompts the user, takes the resulting input and evaluates it\n",
    "    using eval, and prints the result.\n",
    "    It should continue until the user enters 'done', and then return the value of\n",
    "    the last expression it evaluated.\n",
    "    \"\"\"\n",
    "    while True:\n",
    "        user_input = input(\">>> \")\n",
    "        \n",
    "        if eval(user_input) == 'done':  \n",
    "            break\n",
    "        print(eval(user_input))\n",
    "\n",
    "    return eval(user_input)\n",
    "\n",
    "eval_loop()"
   ]
  },
  {
   "cell_type": "markdown",
   "id": "45d4921f",
   "metadata": {},
   "source": [
    "### Exercise 7.3"
   ]
  },
  {
   "cell_type": "code",
   "execution_count": 6,
   "id": "6721a1fd",
   "metadata": {},
   "outputs": [
    {
     "name": "stdout",
     "output_type": "stream",
     "text": [
      "3.141592653589793\n"
     ]
    }
   ],
   "source": [
    "import math\n",
    "\n",
    "\n",
    "def factorial(n):\n",
    "    \"\"\"Computes factorial of n recursively.\"\"\"\n",
    "    if n == 0:\n",
    "        return 1\n",
    "    else:\n",
    "        recurse = factorial(n-1)\n",
    "        result = n * recurse\n",
    "        return result\n",
    "\n",
    "\n",
    "def estimate_pi():\n",
    "    \"\"\"Computes an estimate of pi.\n",
    "    Algorithm due to Srinivasa Ramanujan, from \n",
    "    http://en.wikipedia.org/wiki/Pi\n",
    "    \"\"\"\n",
    "    total = 0\n",
    "    k = 0\n",
    "    factor = 2 * math.sqrt(2) / 9801\n",
    "    while True:\n",
    "        num = factorial(4*k) * (1103 + 26390*k)\n",
    "        den = factorial(k)**4 * 396**(4*k)\n",
    "        \n",
    "        total += num / den\n",
    "        term = factor * num/den\n",
    "        \n",
    "        if abs(term) < 1e-15:\n",
    "            break\n",
    "        k += 1\n",
    "    \n",
    "    return 1 / (factor * total)\n",
    "\n",
    "print(estimate_pi())"
   ]
  },
  {
   "cell_type": "markdown",
   "id": "d7a9e88c",
   "metadata": {},
   "source": [
    "## <font color=\"red\">練習2</font>"
   ]
  },
  {
   "cell_type": "code",
   "execution_count": 14,
   "id": "3ef85028",
   "metadata": {},
   "outputs": [
    {
     "name": "stdout",
     "output_type": "stream",
     "text": [
      "       N        1        2        3        4        5        6\n",
      "      60        7       10       12       11       14        6\n",
      "     600       99      105      109      121      119      107\n",
      "    6000     1056     1064     1107     1172     1169     1092\n",
      "   60000    11074    11087    11093    11189    11048    11169\n",
      "  600000   111219   111139   111132   110879   110856   111435\n",
      " 6000000  1110559  1112948  1110440  1112092  1109533  1111088\n"
     ]
    }
   ],
   "source": [
    "import random\n",
    "\n",
    "pointlist = []\n",
    "ratelist = []\n",
    "n=1\n",
    "\n",
    "print('{:>8} {:>8} {:>8} {:>8} {:>8} {:>8} {:>8}'.format('N',1,2,3,4,5,6))\n",
    "\n",
    "while True:\n",
    "    x = 6*10**n\n",
    "    for pt in range(x):\n",
    "        pointlist.append(random.randint(1,6))\n",
    "    for i in range(1,7):\n",
    "        pointtimes = pointlist.count(i)\n",
    "        ratelist.append(pointtimes)\n",
    "    if n>6:\n",
    "        break\n",
    "    print('{:>8} {:>8} {:>8} {:>8} {:>8} {:>8} {:>8}'.format(x,ratelist[0],ratelist[1],ratelist[2],ratelist[3],ratelist[4],ratelist[5]))\n",
    "    \n",
    "    ratelist = []\n",
    "    n += 1"
   ]
  },
  {
   "cell_type": "markdown",
   "id": "8274ddd3",
   "metadata": {},
   "source": [
    "<img src='作業八.png'>"
   ]
  },
  {
   "cell_type": "code",
   "execution_count": null,
   "id": "b1de6091",
   "metadata": {},
   "outputs": [],
   "source": []
  }
 ],
 "metadata": {
  "kernelspec": {
   "display_name": "Python 3 (ipykernel)",
   "language": "python",
   "name": "python3"
  },
  "language_info": {
   "codemirror_mode": {
    "name": "ipython",
    "version": 3
   },
   "file_extension": ".py",
   "mimetype": "text/x-python",
   "name": "python",
   "nbconvert_exporter": "python",
   "pygments_lexer": "ipython3",
   "version": "3.9.7"
  }
 },
 "nbformat": 4,
 "nbformat_minor": 5
}
