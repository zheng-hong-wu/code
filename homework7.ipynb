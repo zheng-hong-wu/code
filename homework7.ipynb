{
 "cells": [
  {
   "cell_type": "markdown",
   "id": "f804a993",
   "metadata": {},
   "source": [
    "## <font color=\"red\">練習1</font>"
   ]
  },
  {
   "cell_type": "markdown",
   "id": "137735de",
   "metadata": {},
   "source": [
    "<img src='exercise 1.png'>"
   ]
  },
  {
   "cell_type": "markdown",
   "id": "1066b27a",
   "metadata": {},
   "source": [
    "## <font color=\"red\">練習2</font>"
   ]
  },
  {
   "cell_type": "markdown",
   "id": "48945a9a",
   "metadata": {},
   "source": [
    "<img src='exercise 2.png'>"
   ]
  },
  {
   "cell_type": "markdown",
   "id": "78c018d3",
   "metadata": {},
   "source": [
    "<img src='exercise 2(1).png'>"
   ]
  },
  {
   "cell_type": "markdown",
   "id": "5773e41f",
   "metadata": {},
   "source": [
    "<img src='exercise 2(2)'>"
   ]
  },
  {
   "cell_type": "markdown",
   "id": "f4f2bca5",
   "metadata": {},
   "source": [
    "## <font color=\"red\">練習3</font>"
   ]
  },
  {
   "cell_type": "markdown",
   "id": "70287960",
   "metadata": {},
   "source": [
    "6.1"
   ]
  },
  {
   "cell_type": "markdown",
   "id": "296f872f",
   "metadata": {},
   "source": [
    "```\n",
    "main:\n",
    "    x ---> 1\n",
    "    y ---> 2\n",
    "c:\n",
    "    x ---> 1\n",
    "    y ---> 5\n",
    "    z ---> 3\n",
    "    total ---> 9\n",
    "    square ---> 8100\n",
    "b:\n",
    "    z ---> 9\n",
    "    prod ---> 90\n",
    "a:\n",
    "    x ---> 9\n",
    "    y ---> 9\n",
    "    x ---> 10\n",
    " \n",
    "Program prints:\n",
    "9 90\n",
    "8100\n",
    "```"
   ]
  },
  {
   "cell_type": "markdown",
   "id": "f7f3fbf0",
   "metadata": {},
   "source": [
    "6.2"
   ]
  },
  {
   "cell_type": "markdown",
   "id": "8cbcbe72",
   "metadata": {},
   "source": [
    "<img src='exercise 6.2png'>"
   ]
  },
  {
   "cell_type": "markdown",
   "id": "edae97ef",
   "metadata": {},
   "source": [
    "6.3"
   ]
  },
  {
   "cell_type": "markdown",
   "id": "5daa7d7b",
   "metadata": {},
   "source": [
    "<img src='exercise 6.3'>"
   ]
  },
  {
   "cell_type": "markdown",
   "id": "c14ab52b",
   "metadata": {},
   "source": [
    "6.4"
   ]
  },
  {
   "cell_type": "markdown",
   "id": "4d1ac897",
   "metadata": {},
   "source": [
    "<img src='exercise 6.4png'>"
   ]
  },
  {
   "cell_type": "markdown",
   "id": "710da17e",
   "metadata": {},
   "source": [
    "6.5"
   ]
  },
  {
   "cell_type": "markdown",
   "id": "cb11e3f1",
   "metadata": {},
   "source": [
    "<img src='exercise 6.5.png'>"
   ]
  }
 ],
 "metadata": {
  "kernelspec": {
   "display_name": "Python 3 (ipykernel)",
   "language": "python",
   "name": "python3"
  },
  "language_info": {
   "codemirror_mode": {
    "name": "ipython",
    "version": 3
   },
   "file_extension": ".py",
   "mimetype": "text/x-python",
   "name": "python",
   "nbconvert_exporter": "python",
   "pygments_lexer": "ipython3",
   "version": "3.9.7"
  }
 },
 "nbformat": 4,
 "nbformat_minor": 5
}
