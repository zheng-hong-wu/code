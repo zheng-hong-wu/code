{
 "cells": [
  {
   "cell_type": "markdown",
   "id": "8ee2996c",
   "metadata": {},
   "source": [
    "## <font color=\"red\">練習1</font>"
   ]
  },
  {
   "cell_type": "markdown",
   "id": "50257850",
   "metadata": {},
   "source": [
    "### Exercise 8.2"
   ]
  },
  {
   "cell_type": "code",
   "execution_count": 3,
   "id": "4046cf63",
   "metadata": {},
   "outputs": [
    {
     "name": "stdout",
     "output_type": "stream",
     "text": [
      "3\n"
     ]
    }
   ],
   "source": [
    "word = 'banana'\n",
    "i = word.count('a')\n",
    "print (i)"
   ]
  },
  {
   "cell_type": "markdown",
   "id": "f9a4210c",
   "metadata": {},
   "source": [
    "### Exercise 8.3"
   ]
  },
  {
   "cell_type": "code",
   "execution_count": 8,
   "id": "83ec8dba",
   "metadata": {},
   "outputs": [
    {
     "name": "stdout",
     "output_type": "stream",
     "text": [
      "True\n",
      "False\n"
     ]
    }
   ],
   "source": [
    "def is_palindrome(word):\n",
    "    return word == word[::-1]\n",
    "\n",
    "\n",
    "print (is_palindrome(\"redivider\"))\n",
    "print (is_palindrome(\"apple\"))"
   ]
  },
  {
   "cell_type": "markdown",
   "id": "8305f205",
   "metadata": {},
   "source": [
    "### Exercise 8.4"
   ]
  },
  {
   "cell_type": "code",
   "execution_count": null,
   "id": "151e64d0",
   "metadata": {},
   "outputs": [],
   "source": [
    "# parameter is a string\n",
    "\n",
    "def any_lowercase1(s):\n",
    "    for c in s:\n",
    "        if c.islower():\n",
    "            return True #check every character in the string is a lowercase character and return a boolean value\n",
    "        else\n",
    "            return False\n",
    "\n",
    "def any_lowercase2(s):\n",
    "    for c in s:\n",
    "        if 'c'.islower():  #always return a string 'true' since 'c' is a lowercase no matter how many characters are in the string\n",
    "            return 'True'\n",
    "        else:\n",
    "            return 'False'\n",
    "\n",
    "def any_lowercase3(s):\n",
    "    for c in s:\n",
    "        flag = c.islower() #check if the last character in the string is a lower case, return a boolean value\n",
    "    return flag\n",
    "\n",
    "def any_lowercase4(s):\n",
    "    flag = False\n",
    "    for c in s:\n",
    "        flag = flag or c.islower() #check if the last character in the string is a lower case, return a boolean value\n",
    "    return flag\n",
    "\n",
    "def any_lowercase5(s):\n",
    "    for c in s:\n",
    "        if not c.islower():\n",
    "            return False #check if every character in the string is a lower case, return a boolean value False if not\n",
    "    return True"
   ]
  },
  {
   "cell_type": "markdown",
   "id": "b1a79369",
   "metadata": {},
   "source": [
    "### Exercise 8.5"
   ]
  },
  {
   "cell_type": "code",
   "execution_count": 9,
   "id": "01b9832b",
   "metadata": {},
   "outputs": [
    {
     "name": "stdout",
     "output_type": "stream",
     "text": [
      "dssoh+dssoh\n",
      "DSSOH\n"
     ]
    }
   ],
   "source": [
    "def rotate_word(s, n):\n",
    "    s_c = \"\" \n",
    "    i = 0 \n",
    "    for c in s:\n",
    "        if ord(c) >= ord('A') and ord(c) <= ord('Z'):\n",
    "            i = (ord(c) - ord('A') + n ) % 26 + ord('A') \n",
    "        elif ord(c) >= ord('a') and ord(c) <= ord('z'):\n",
    "            i = (ord(c) - ord('a') + n ) % 26 + ord('a')\n",
    "        else:\n",
    "            i = ord(c) # other characters does not change\n",
    "        s_c +=  chr(i)\n",
    "    return s_c\n",
    "\n",
    "print (rotate_word(\"apple+apple\", 3))\n",
    "print (rotate_word(\"APPLE\", 3))"
   ]
  },
  {
   "cell_type": "markdown",
   "id": "e8122e12",
   "metadata": {},
   "source": [
    "## <font color=\"red\">練習2</font>"
   ]
  },
  {
   "cell_type": "code",
   "execution_count": 15,
   "id": "4f1e00fa",
   "metadata": {},
   "outputs": [
    {
     "name": "stdout",
     "output_type": "stream",
     "text": [
      "None None\n"
     ]
    }
   ],
   "source": [
    "def length(x1,y1,x2,y2,x3,y3,x4,y4,x5,y5):\n",
    "    length1 = abs(((x2-x1)**2+(y2-y1)**2)**0.5)\n",
    "    length2 = abs(((x3-x2)**2+(y3-y2)**2)**0.5)\n",
    "    length3 = abs(((x4-x3)**2+(y4-y3)**2)**0.5)\n",
    "    length4 = abs(((x5-x4)**2+(y5-y4)**2)**0.5)\n",
    "    length5 = abs(((x5-x1)**2+(y5-y1)**2)**0.5)\n",
    "    return\n",
    "    print('length1=', length1,'length2=', length2,'length3=', length3,'length4=', length4,'length5=', length5)\n",
    "    \n",
    "def area(x1,y1,x2,y2,x3,y3,x4,y4,x5,y5):\n",
    "    area_all = abs(((x1*y2)+(x2*y3)+(x3*y4)+(x4*y5))-((y1*x2)+(y2*x3)+(y3*x4)+(y4*x5)))\n",
    "    return\n",
    "    print('area=', area_all)\n",
    "    \n",
    "print(length(1,2,2,4,4,5,6,4,5,3),area(1,2,2,4,4,5,6,4,5,3))\n"
   ]
  },
  {
   "cell_type": "code",
   "execution_count": null,
   "id": "301fdeed",
   "metadata": {},
   "outputs": [],
   "source": []
  }
 ],
 "metadata": {
  "kernelspec": {
   "display_name": "Python 3 (ipykernel)",
   "language": "python",
   "name": "python3"
  },
  "language_info": {
   "codemirror_mode": {
    "name": "ipython",
    "version": 3
   },
   "file_extension": ".py",
   "mimetype": "text/x-python",
   "name": "python",
   "nbconvert_exporter": "python",
   "pygments_lexer": "ipython3",
   "version": "3.9.7"
  }
 },
 "nbformat": 4,
 "nbformat_minor": 5
}
