{
 "cells": [
  {
   "cell_type": "markdown",
   "id": "a79fbdb6",
   "metadata": {},
   "source": [
    "- **problem solving**: The process of formulating a problem, finding a solution, and expressing it.\n",
    "- **high-level language:** A programming language like Python that is designed to be easy for humans to read and write. \n",
    "- **low-level language:** A programming language that is designed to be easy for a computer to run; also called machine language'' orassembly language''.\n",
    "- **portability:** A property of a program that can run on more than one kind of computer.\n",
    "- **interpreter:** A program that reads another program and executes it.\n",
    "- **prompt:** Characters displayed by the interpreter to indicate that it is ready to take input from the user. \n",
    "- **program:** A set of instructions that specifies a computation. \n",
    "- **print statement:** An instruction that causes the Python interpreter to display a value on the screen. \n",
    "\n",
    "- **operator:** A special symbol that represents a simple computation like addition, multiplication, or string concatenation. \n",
    "- **value:** One of the basic units of data, like a number or string, that a program manipulates. \n",
    "- **type:** A category of values. The types we have seen so far are integers (type {\\tt int}), floating-point numbers (type {\\tt float}), and strings (type {\\tt str}). \n",
    "- **integer:** A type that represents whole numbers. \n",
    "- **floating-point:** A type that represents numbers with fractional parts. \n",
    "- **string:** A type that represents sequences of characters.\n",
    "- **natural language:** Any one of the languages that people speak that evolved naturally. \n",
    "- **formal language:** Any one of the languages that people have designed for specific purposes, such as representing mathematical ideas or computer programs; all programming languages are formal languages. \n",
    "- **token:** One of the basic elements of the syntactic structure of a program, analogous to a word in a natural language. \n",
    "- **syntax:** The rules that govern the structure of a program. \n",
    "- **parse:** To examine a program and analyze the syntactic structure.\n",
    "- **bug:** An error in a program.\n",
    "- **debugging:** The process of finding and correcting bugs."
   ]
  },
  {
   "cell_type": "markdown",
   "id": "ee9cd5b7",
   "metadata": {},
   "source": [
    "**Exercise 1.1**"
   ]
  },
  {
   "cell_type": "markdown",
   "id": "54255a1d",
   "metadata": {},
   "source": [
    "<img src='photo.png'>"
   ]
  },
  {
   "cell_type": "markdown",
   "id": "dcd94a05",
   "metadata": {},
   "source": [
    "**Exercise 1.2**"
   ]
  },
  {
   "cell_type": "markdown",
   "id": "c44d10c2",
   "metadata": {},
   "source": [
    "1. How many seconds are there in 42 minutes 42 seconds?"
   ]
  },
  {
   "cell_type": "code",
   "execution_count": 4,
   "id": "c2a8b51e",
   "metadata": {},
   "outputs": [
    {
     "data": {
      "text/plain": [
       "2562"
      ]
     },
     "execution_count": 4,
     "metadata": {},
     "output_type": "execute_result"
    }
   ],
   "source": [
    "42*60+42"
   ]
  },
  {
   "cell_type": "markdown",
   "id": "14188f4a",
   "metadata": {},
   "source": [
    "2. How many miles are there in 10 kilometers?  Hint: there are 1.61\n",
    "  kilometers in a mile."
   ]
  },
  {
   "cell_type": "code",
   "execution_count": 5,
   "id": "b02c754d",
   "metadata": {},
   "outputs": [
    {
     "data": {
      "text/plain": [
       "6.211180124223602"
      ]
     },
     "execution_count": 5,
     "metadata": {},
     "output_type": "execute_result"
    }
   ],
   "source": [
    "10/1.61"
   ]
  },
  {
   "cell_type": "markdown",
   "id": "51dd1815",
   "metadata": {},
   "source": [
    "3. If you run a 10 kilometer race in 42 minutes 42 seconds, what is\n",
    "  your average pace (time per mile in minutes and seconds)?  What is\n",
    "  your average speed in miles per hour?\n",
    " "
   ]
  },
  {
   "cell_type": "code",
   "execution_count": 6,
   "id": "1f3933db",
   "metadata": {},
   "outputs": [
    {
     "data": {
      "text/plain": [
       "0.0024243482139826703"
      ]
     },
     "execution_count": 6,
     "metadata": {},
     "output_type": "execute_result"
    }
   ],
   "source": [
    "(10/1.61)/(42*60+42)"
   ]
  },
  {
   "cell_type": "code",
   "execution_count": 1,
   "id": "e8c00cc2",
   "metadata": {},
   "outputs": [
    {
     "data": {
      "text/plain": [
       "8.727653570337614"
      ]
     },
     "execution_count": 1,
     "metadata": {},
     "output_type": "execute_result"
    }
   ],
   "source": [
    "(10/1.61)/((42*60+42)/3600)"
   ]
  },
  {
   "cell_type": "markdown",
   "id": "dddc2620",
   "metadata": {},
   "source": [
    "字體大小，顏色"
   ]
  },
  {
   "cell_type": "markdown",
   "id": "e48a0b89",
   "metadata": {},
   "source": [
    "<h1>Hello World</h1>"
   ]
  },
  {
   "cell_type": "markdown",
   "id": "30b13eff",
   "metadata": {},
   "source": [
    "<p style=\"color:DodgerBlue;\">Hello world</p>"
   ]
  },
  {
   "cell_type": "markdown",
   "id": "e854f3f3",
   "metadata": {},
   "source": [
    "<h1 style=\"color:MediumSeaGreen;\">Hello World</h1>"
   ]
  },
  {
   "cell_type": "markdown",
   "id": "4bdea1a6",
   "metadata": {},
   "source": [
    "<html>Hello world</html>"
   ]
  },
  {
   "cell_type": "markdown",
   "id": "74dbbb87",
   "metadata": {},
   "source": [
    "<h1 style=\"color:Tomato;\">Hello World</h1>"
   ]
  },
  {
   "cell_type": "markdown",
   "id": "3c92812f",
   "metadata": {},
   "source": [
    "超連結"
   ]
  },
  {
   "cell_type": "markdown",
   "id": "df358dcc",
   "metadata": {},
   "source": [
    "<a href=\"https://www.w3schools.com/\">Visit W3Schools.com!</a>\n"
   ]
  },
  {
   "cell_type": "markdown",
   "id": "1d207991",
   "metadata": {},
   "source": [
    "圖片"
   ]
  },
  {
   "cell_type": "markdown",
   "id": "ed721611",
   "metadata": {},
   "source": [
    "\n",
    "<img src=\"photo.png\">"
   ]
  }
 ],
 "metadata": {
  "kernelspec": {
   "display_name": "Python 3 (ipykernel)",
   "language": "python",
   "name": "python3"
  },
  "language_info": {
   "codemirror_mode": {
    "name": "ipython",
    "version": 3
   },
   "file_extension": ".py",
   "mimetype": "text/x-python",
   "name": "python",
   "nbconvert_exporter": "python",
   "pygments_lexer": "ipython3",
   "version": "3.9.7"
  }
 },
 "nbformat": 4,
 "nbformat_minor": 5
}
