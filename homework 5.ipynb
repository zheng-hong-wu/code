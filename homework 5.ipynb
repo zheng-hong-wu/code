{
 "cells": [
  {
   "cell_type": "markdown",
   "id": "a3f70331",
   "metadata": {},
   "source": [
    "用python來執行網頁"
   ]
  },
  {
   "cell_type": "markdown",
   "id": "3368772a",
   "metadata": {},
   "source": [
    "<img src='作業五.hello.png'>"
   ]
  },
  {
   "cell_type": "markdown",
   "id": "3d748d5c",
   "metadata": {},
   "source": [
    "## <font color=\"red\">練習1</font>"
   ]
  },
  {
   "cell_type": "markdown",
   "id": "f5f0d5c4",
   "metadata": {},
   "source": [
    "1. <img src='作業五.png'>"
   ]
  },
  {
   "cell_type": "markdown",
   "id": "899b7bdd",
   "metadata": {},
   "source": [
    "<img src='diagram.png'>"
   ]
  },
  {
   "cell_type": "markdown",
   "id": "3ff7facb",
   "metadata": {},
   "source": [
    "2.兩者之間得差距為angle有沒有加上float這個轉換，有加的話可以有效減少誤差"
   ]
  },
  {
   "cell_type": "markdown",
   "id": "4690e21f",
   "metadata": {},
   "source": [
    "## <font color=\"red\">練習2</font>"
   ]
  },
  {
   "cell_type": "markdown",
   "id": "1ce23c42",
   "metadata": {},
   "source": [
    "<img src='mysquare.png'>"
   ]
  },
  {
   "cell_type": "markdown",
   "id": "c778cb1d",
   "metadata": {},
   "source": [
    "<img src='mypolygon.png'>"
   ]
  },
  {
   "cell_type": "markdown",
   "id": "32931430",
   "metadata": {},
   "source": [
    "## <font color=\"red\">練習3</font>"
   ]
  },
  {
   "cell_type": "markdown",
   "id": "b8222b35",
   "metadata": {},
   "source": [
    "## <font color='red'>1.</font>"
   ]
  },
  {
   "cell_type": "markdown",
   "id": "f9485429",
   "metadata": {},
   "source": [
    "4.1"
   ]
  },
  {
   "cell_type": "markdown",
   "id": "51edbc46",
   "metadata": {},
   "source": [
    "<img src='circle.png'>"
   ]
  },
  {
   "cell_type": "markdown",
   "id": "3ba1ba24",
   "metadata": {},
   "source": [
    "4.2"
   ]
  },
  {
   "cell_type": "markdown",
   "id": "507142e7",
   "metadata": {},
   "source": [
    "<img src='flowers'>"
   ]
  },
  {
   "cell_type": "markdown",
   "id": "401dfca6",
   "metadata": {},
   "source": [
    "4.3"
   ]
  },
  {
   "cell_type": "markdown",
   "id": "f01ea5e3",
   "metadata": {},
   "source": [
    "<img src='pies.png'>"
   ]
  },
  {
   "cell_type": "markdown",
   "id": "48d7f5ba",
   "metadata": {},
   "source": [
    "4.4"
   ]
  },
  {
   "cell_type": "markdown",
   "id": "c6298bb4",
   "metadata": {},
   "source": [
    "<img src='letters'>"
   ]
  },
  {
   "cell_type": "markdown",
   "id": "d07680dd",
   "metadata": {},
   "source": [
    "4.5"
   ]
  },
  {
   "cell_type": "markdown",
   "id": "10f305af",
   "metadata": {},
   "source": [
    "<img src='spiral.png'>"
   ]
  },
  {
   "cell_type": "markdown",
   "id": "fd742e5a",
   "metadata": {},
   "source": [
    "## <font color=\"red\">2.</font>"
   ]
  },
  {
   "cell_type": "markdown",
   "id": "09c9fdc2",
   "metadata": {},
   "source": [
    "<img src='peter.png'>"
   ]
  }
 ],
 "metadata": {
  "kernelspec": {
   "display_name": "Python 3 (ipykernel)",
   "language": "python",
   "name": "python3"
  },
  "language_info": {
   "codemirror_mode": {
    "name": "ipython",
    "version": 3
   },
   "file_extension": ".py",
   "mimetype": "text/x-python",
   "name": "python",
   "nbconvert_exporter": "python",
   "pygments_lexer": "ipython3",
   "version": "3.9.7"
  }
 },
 "nbformat": 4,
 "nbformat_minor": 5
}
