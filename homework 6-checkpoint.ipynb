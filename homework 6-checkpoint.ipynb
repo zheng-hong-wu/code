{
 "cells": [
  {
   "cell_type": "markdown",
   "id": "9c76c5ec",
   "metadata": {},
   "source": [
    "## <font color='red'>練習1</font>"
   ]
  },
  {
   "cell_type": "code",
   "execution_count": null,
   "id": "23d0d7d1",
   "metadata": {},
   "outputs": [],
   "source": [
    "def bmi(w, h):\n",
    "    h_m = h / 100.0\n",
    "    result = w / (h_m * h_m)\n",
    "    print (result)\n",
    "    return result\n",
    "h = int(input(\"Please enter height in (cm): \"))\n",
    "w = float(input(\"Please enter weight in (kg): \"))\n",
    "\n",
    "bmi(w,h)"
   ]
  },
  {
   "cell_type": "markdown",
   "id": "14019fec",
   "metadata": {},
   "source": [
    "<img src='1.1.png'>"
   ]
  },
  {
   "cell_type": "code",
   "execution_count": null,
   "id": "ecdcf45f",
   "metadata": {},
   "outputs": [],
   "source": [
    "def bmi(w, h):\n",
    "    h_m = h / 100.0\n",
    "    result = w / (h_m * h_m)  \n",
    "    return result\n",
    "\n",
    "h = int(input(\"Please enter height in (cm): \"))\n",
    "w = float(input(\"Please enter weight in (kg): \"))\n",
    "\n",
    "a = bmi(w,h)\n",
    "\n",
    "\n",
    "if a<= 18.5:\n",
    "    print('體重過輕')\n",
    "elif a>18.5 and a<24.5:\n",
    "    print('健康體位')\n",
    "elif a>24 and a<27:\n",
    "    print('過重')\n",
    "elif a>27 and a<30:\n",
    "    print('輕度肥胖')\n",
    "elif a>30 and a<35:\n",
    "    print('中度肥胖')\n",
    "elif a>=35:\n",
    "    print('重度肥胖')"
   ]
  },
  {
   "cell_type": "markdown",
   "id": "55781c16",
   "metadata": {},
   "source": [
    "<img src='1.2.png'>"
   ]
  },
  {
   "cell_type": "markdown",
   "id": "0d3b4822",
   "metadata": {},
   "source": [
    "## <font color=\"red\">練習2</font>"
   ]
  },
  {
   "cell_type": "code",
   "execution_count": null,
   "id": "b3d3a1e1",
   "metadata": {},
   "outputs": [],
   "source": [
    "for i in range(10,0,-1):\n",
    "    print(i)"
   ]
  },
  {
   "cell_type": "markdown",
   "id": "766159c7",
   "metadata": {},
   "source": [
    "<img src='2.1.png'>"
   ]
  },
  {
   "cell_type": "code",
   "execution_count": null,
   "id": "040f5a22",
   "metadata": {},
   "outputs": [],
   "source": [
    "def print_n(s, n):\n",
    "    for i in range(n):\n",
    "        print('s = {}, i = {}'.format(s,i))\n",
    "    \n",
    "name = \"Peter\"\n",
    "print_n(name, 3)"
   ]
  },
  {
   "cell_type": "markdown",
   "id": "ec258d19",
   "metadata": {},
   "source": [
    "<img src='2.2.png'>"
   ]
  },
  {
   "cell_type": "markdown",
   "id": "9a461de9",
   "metadata": {},
   "source": [
    "<img src='2.3.png'>"
   ]
  },
  {
   "cell_type": "markdown",
   "id": "abd13f22",
   "metadata": {},
   "source": [
    "## <font color=\"red\">練習3</font>"
   ]
  },
  {
   "cell_type": "markdown",
   "id": "6577f6dc",
   "metadata": {},
   "source": [
    "exercise 5.1"
   ]
  },
  {
   "cell_type": "code",
   "execution_count": null,
   "id": "abc252c7",
   "metadata": {},
   "outputs": [],
   "source": [
    "import time\n",
    "last_epoch = time.time()\n",
    "\n",
    "def current_time(since_epoch):\n",
    "    \"\"\"Calculates current hour, minute, and second since given epoch;\n",
    "    since epoch - in seconds.\n",
    "    \"\"\"\n",
    "    hours_since = since_epoch // 60 // 60\n",
    "    current_hour = hours_since - (hours_since // 24) * 24\n",
    "    minutes_since = since_epoch // 60\n",
    "    current_minute = minutes_since - (minutes_since // 60) * 60\n",
    "    second_since = since_epoch // 1  # to round down seconds\n",
    "    current_second = second_since - (second_since // 60) * 60\n",
    "    return current_hour, current_minute, current_second\n",
    "\n",
    "def days_since_epoch(epoch):\n",
    "    \"\"\"Returns number of days since given epoch;\n",
    "    epoch - in seconds.\n",
    "    \"\"\"\n",
    "    days = epoch // 60 // 60 // 24\n",
    "    return days\n",
    "\n",
    "\n",
    "print(current_time(last_epoch))\n",
    "print(days_since_epoch(last_epoch))"
   ]
  },
  {
   "cell_type": "markdown",
   "id": "32d534e9",
   "metadata": {},
   "source": [
    "<img src='3.1.png'>"
   ]
  },
  {
   "cell_type": "markdown",
   "id": "8cd67253",
   "metadata": {},
   "source": [
    "exercise 5.2"
   ]
  },
  {
   "cell_type": "code",
   "execution_count": null,
   "id": "cb336997",
   "metadata": {},
   "outputs": [],
   "source": [
    "def check_fermat(a, b, c, n):\n",
    "    if n > 2 and a**n + b**n == c**n:\n",
    "        print(\"Holy smokes, Fermat was wrong!\")\n",
    "    else:\n",
    "        print(\"No, that doesn't work.\")\n",
    "\n",
    "def prompting():\n",
    "    a = input(\"Type your value of a: \")\n",
    "    b = input(\"Type your value of b: \")\n",
    "    c = input(\"Type your value of c: \")\n",
    "    n = input(\"Type your value of n: \")\n",
    "    \n",
    "    check_fermat(int(a), int(b), int(c), int(n))\n",
    "\n",
    "prompting()"
   ]
  },
  {
   "cell_type": "markdown",
   "id": "b5a6fb1e",
   "metadata": {},
   "source": [
    "<img src='3.2.png'>"
   ]
  },
  {
   "cell_type": "markdown",
   "id": "9cbd5b55",
   "metadata": {},
   "source": [
    "exercise 5.3"
   ]
  },
  {
   "cell_type": "code",
   "execution_count": null,
   "id": "c463a895",
   "metadata": {},
   "outputs": [],
   "source": [
    "def is_triangle(a, b, c):\n",
    "    if a > b + c:\n",
    "        print(\"No\")\n",
    "    elif b > a + c:\n",
    "        print(\"No\")\n",
    "    elif c > a + b:\n",
    "        print(\"No\")\n",
    "    else:\n",
    "        print(\"Yes\")\n",
    "\n",
    "def prompting():\n",
    "    a = input(\"Type length of side a: \")\n",
    "    b = input(\"Type length of side b: \")\n",
    "    c = input(\"Type length of side c: \")\n",
    "    \n",
    "    is_triangle(int(a), int(b), int(c))\n",
    "    \n",
    "prompting()"
   ]
  },
  {
   "cell_type": "markdown",
   "id": "929ba682",
   "metadata": {},
   "source": [
    "<img src='3.3.png'>"
   ]
  },
  {
   "cell_type": "markdown",
   "id": "c0b7402d",
   "metadata": {},
   "source": [
    "exercise 5.4"
   ]
  },
  {
   "cell_type": "code",
   "execution_count": null,
   "id": "f410141f",
   "metadata": {},
   "outputs": [],
   "source": [
    "def recurse(n, s):\n",
    "    '''Recursive function for getting and printing the value of s;\n",
    "    n - positive integer;\n",
    "    s - integer.\n",
    "    '''\n",
    "    if n == 0:\n",
    "        print(s)\n",
    "    else:\n",
    "        recurse(n-1, n+s)\n",
    "\n",
    "'''\n",
    "__main__ :\n",
    "    None\n",
    "recurse:\n",
    "    n ---> 3\n",
    "    s ---> 0\n",
    "    \n",
    "recurse:\n",
    "    n ---> 2\n",
    "    s ---> 3\n",
    "recurse:\n",
    "    n ---> 1\n",
    "    s ---> 5\n",
    "recurse:\n",
    "    n ---> 0\n",
    "    s ---> 6\n",
    "    \n",
    "'''\n",
    "\n",
    "# Answer1:\n",
    "# recurse(-1, 0) will be infinite recursion."
   ]
  },
  {
   "cell_type": "markdown",
   "id": "ce62d306",
   "metadata": {},
   "source": [
    "## 進位"
   ]
  },
  {
   "cell_type": "markdown",
   "id": "36ac4844",
   "metadata": {},
   "source": [
    "## <font color='red'>練習1</font>"
   ]
  },
  {
   "cell_type": "markdown",
   "id": "dc696a4f",
   "metadata": {},
   "source": [
    "<img src='進位表.png'>"
   ]
  },
  {
   "cell_type": "markdown",
   "id": "4b9b9dc3",
   "metadata": {},
   "source": [
    "## <font color=\"red\">練習2</font>"
   ]
  },
  {
   "cell_type": "code",
   "execution_count": null,
   "id": "fdbdb780",
   "metadata": {},
   "outputs": [],
   "source": [
    "import math\n",
    "\n",
    "conversion_table = ['0', '1', '2', '3', '4', '5', '6', '7', '8', '9', 'A' , 'B', 'C', 'D', 'E', 'F']\n",
    "\n",
    "def decimal_binary(n):\n",
    "    d=n\n",
    "    s = \"\"\n",
    "    while n > 2:\n",
    "        remainder = n % 2\n",
    "        s = str(remainder) + s\n",
    "        n = n // 2\n",
    "    \n",
    "    s = str(n) + s\n",
    "    print('decimal:{},binary: {}'.format(d,s))\n",
    "\n",
    "    \n",
    "def decimal_octal(n):\n",
    "    d=n\n",
    "    s = \"\"\n",
    "    while n > 8:\n",
    "        remainder = n % 8\n",
    "        s = str(remainder) + s\n",
    "        n = n // 8\n",
    "    \n",
    "    s = str(n) + s\n",
    "    print('decimal:{},octal: {}'.format(d,s))\n",
    "    \n",
    "def decimal_hexadecimal(n):\n",
    "    d=n\n",
    "    s = \"\"\n",
    "    while n > 16:\n",
    "        remainder = n % 16\n",
    "        s = conversion_table[remainder] + s\n",
    "        n = n // 16\n",
    "    \n",
    "    s = str(n) + s        \n",
    "    print('decimal:{},hexadecimal: {}'.format(d,s))\n",
    "\n",
    "    \n",
    "def number_system(n):\n",
    "    decimal_binary(n)\n",
    "    decimal_octal(n)\n",
    "    decimal_hexadecimal(n)\n",
    "\n",
    "n=int(input(\"Enter a number in decimal:\"))\n",
    "number_system(n)"
   ]
  }
 ],
 "metadata": {
  "kernelspec": {
   "display_name": "Python 3 (ipykernel)",
   "language": "python",
   "name": "python3"
  },
  "language_info": {
   "codemirror_mode": {
    "name": "ipython",
    "version": 3
   },
   "file_extension": ".py",
   "mimetype": "text/x-python",
   "name": "python",
   "nbconvert_exporter": "python",
   "pygments_lexer": "ipython3",
   "version": "3.9.7"
  }
 },
 "nbformat": 4,
 "nbformat_minor": 5
}
