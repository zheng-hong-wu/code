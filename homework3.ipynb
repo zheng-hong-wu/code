{
 "cells": [
  {
   "cell_type": "markdown",
   "id": "985d6ae3",
   "metadata": {},
   "source": [
    "<h1>練習2</h1>"
   ]
  },
  {
   "cell_type": "markdown",
   "id": "d2844ea2",
   "metadata": {},
   "source": [
    "- variable: A name that refers to a value.\n",
    "- operand: One of the values on which an operator operates.\n",
    "- expression: A combination of variables, operators, and values that represents a single result.\n",
    "- execute: To run a statement and do what it says.\n",
    "- script: A program stored in a file."
   ]
  },
  {
   "cell_type": "markdown",
   "id": "6ce8d41d",
   "metadata": {},
   "source": [
    "<h1>練習3</h1>"
   ]
  },
  {
   "cell_type": "markdown",
   "id": "29eb849e",
   "metadata": {},
   "source": [
    "<h3>exercise2.1</h3>"
   ]
  },
  {
   "cell_type": "code",
   "execution_count": 1,
   "id": "989eda3d",
   "metadata": {},
   "outputs": [
    {
     "ename": "SyntaxError",
     "evalue": "cannot assign to literal (Temp/ipykernel_15972/1956984606.py, line 1)",
     "output_type": "error",
     "traceback": [
      "\u001b[1;36m  File \u001b[1;32m\"C:\\Users\\USER\\AppData\\Local\\Temp/ipykernel_15972/1956984606.py\"\u001b[1;36m, line \u001b[1;32m1\u001b[0m\n\u001b[1;33m    42=n\u001b[0m\n\u001b[1;37m    ^\u001b[0m\n\u001b[1;31mSyntaxError\u001b[0m\u001b[1;31m:\u001b[0m cannot assign to literal\n"
     ]
    }
   ],
   "source": [
    "42=n"
   ]
  },
  {
   "cell_type": "code",
   "execution_count": 2,
   "id": "3ab01b86",
   "metadata": {},
   "outputs": [],
   "source": [
    "x=y=1"
   ]
  },
  {
   "cell_type": "code",
   "execution_count": 3,
   "id": "904d2a99",
   "metadata": {},
   "outputs": [
    {
     "name": "stdout",
     "output_type": "stream",
     "text": [
      "Hello World\n"
     ]
    }
   ],
   "source": [
    "print('Hello World');"
   ]
  },
  {
   "cell_type": "code",
   "execution_count": 4,
   "id": "853769d8",
   "metadata": {},
   "outputs": [
    {
     "ename": "SyntaxError",
     "evalue": "invalid character '。' (U+3002) (Temp/ipykernel_15972/2028886457.py, line 1)",
     "output_type": "error",
     "traceback": [
      "\u001b[1;36m  File \u001b[1;32m\"C:\\Users\\USER\\AppData\\Local\\Temp/ipykernel_15972/2028886457.py\"\u001b[1;36m, line \u001b[1;32m1\u001b[0m\n\u001b[1;33m    print('Hello World')。\u001b[0m\n\u001b[1;37m                        ^\u001b[0m\n\u001b[1;31mSyntaxError\u001b[0m\u001b[1;31m:\u001b[0m invalid character '。' (U+3002)\n"
     ]
    }
   ],
   "source": [
    "print('Hello World')。"
   ]
  },
  {
   "cell_type": "code",
   "execution_count": 5,
   "id": "0542b09f",
   "metadata": {},
   "outputs": [
    {
     "ename": "NameError",
     "evalue": "name 'xy' is not defined",
     "output_type": "error",
     "traceback": [
      "\u001b[1;31m---------------------------------------------------------------------------\u001b[0m",
      "\u001b[1;31mNameError\u001b[0m                                 Traceback (most recent call last)",
      "\u001b[1;32m~\\AppData\\Local\\Temp/ipykernel_15972/3424147140.py\u001b[0m in \u001b[0;36m<module>\u001b[1;34m\u001b[0m\n\u001b[1;32m----> 1\u001b[1;33m \u001b[0mxy\u001b[0m\u001b[1;33m\u001b[0m\u001b[1;33m\u001b[0m\u001b[0m\n\u001b[0m",
      "\u001b[1;31mNameError\u001b[0m: name 'xy' is not defined"
     ]
    }
   ],
   "source": [
    "xy"
   ]
  },
  {
   "cell_type": "markdown",
   "id": "2afdc52e",
   "metadata": {},
   "source": [
    "<h3>exercise 2.2</h3>"
   ]
  },
  {
   "cell_type": "code",
   "execution_count": 6,
   "id": "a80b9b4b",
   "metadata": {},
   "outputs": [
    {
     "data": {
      "text/plain": [
       "523.5987666666666"
      ]
     },
     "execution_count": 6,
     "metadata": {},
     "output_type": "execute_result"
    }
   ],
   "source": [
    "pi=3.1415926\n",
    "4/3*pi*5**3"
   ]
  },
  {
   "cell_type": "code",
   "execution_count": 5,
   "id": "ed70fae9",
   "metadata": {},
   "outputs": [
    {
     "name": "stdout",
     "output_type": "stream",
     "text": [
      "57\n"
     ]
    }
   ],
   "source": [
    "m = (24.95*0.4+3)+(59*0.75)\n",
    "m1 = int(m)\n",
    "print(m1)"
   ]
  },
  {
   "cell_type": "code",
   "execution_count": 6,
   "id": "c58eeab5",
   "metadata": {},
   "outputs": [
    {
     "name": "stdout",
     "output_type": "stream",
     "text": [
      "7.5\n"
     ]
    }
   ],
   "source": [
    "m1=(8*60+15)+3*(7*60+12)+(8*60+15)\n",
    "m2=m1/60\n",
    "m3=int(m2)\n",
    "A=6*60+52+m3\n",
    "h=A/60\n",
    "print(h)"
   ]
  },
  {
   "cell_type": "code",
   "execution_count": null,
   "id": "197f84ca",
   "metadata": {},
   "outputs": [],
   "source": [
    "m=0.5*60\n",
    "print(7)"
   ]
  }
 ],
 "metadata": {
  "kernelspec": {
   "display_name": "Python 3 (ipykernel)",
   "language": "python",
   "name": "python3"
  },
  "language_info": {
   "codemirror_mode": {
    "name": "ipython",
    "version": 3
   },
   "file_extension": ".py",
   "mimetype": "text/x-python",
   "name": "python",
   "nbconvert_exporter": "python",
   "pygments_lexer": "ipython3",
   "version": "3.9.7"
  }
 },
 "nbformat": 4,
 "nbformat_minor": 5
}
