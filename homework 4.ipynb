{
 "cells": [
  {
   "cell_type": "markdown",
   "id": "77391227",
   "metadata": {},
   "source": [
    "## <font color=\"red\">練習1</font>"
   ]
  },
  {
   "cell_type": "markdown",
   "id": "45327a3a",
   "metadata": {},
   "source": [
    "<img src='作業四(2)'>"
   ]
  },
  {
   "cell_type": "markdown",
   "id": "e68cfca1",
   "metadata": {},
   "source": [
    "<img src=\"作業四(3)\">"
   ]
  },
  {
   "cell_type": "markdown",
   "id": "79591eb3",
   "metadata": {},
   "source": [
    "## <font color=\"red\">練習2</font>\n",
    "以下程式若有錯誤，請說明錯誤的原因，並在下方增加一個 codel cell 輸入修正後的程式"
   ]
  },
  {
   "cell_type": "code",
   "execution_count": 2,
   "id": "c8148b1f",
   "metadata": {},
   "outputs": [
    {
     "ename": "IndentationError",
     "evalue": "unindent does not match any outer indentation level (<tokenize>, line 3)",
     "output_type": "error",
     "traceback": [
      "\u001b[1;36m  File \u001b[1;32m\"<tokenize>\"\u001b[1;36m, line \u001b[1;32m3\u001b[0m\n\u001b[1;33m    print \"hello, again\"\u001b[0m\n\u001b[1;37m    ^\u001b[0m\n\u001b[1;31mIndentationError\u001b[0m\u001b[1;31m:\u001b[0m unindent does not match any outer indentation level\n"
     ]
    }
   ],
   "source": [
    "def print_lyrics():\n",
    "    print \"hello\"\n",
    " print \"hello, again\"\n",
    "\n",
    "print_lyrics()"
   ]
  },
  {
   "cell_type": "markdown",
   "id": "2f76beb3",
   "metadata": {},
   "source": [
    "此為縮排錯誤"
   ]
  },
  {
   "cell_type": "code",
   "execution_count": 14,
   "id": "94c9286a",
   "metadata": {},
   "outputs": [
    {
     "ename": "SyntaxError",
     "evalue": "Missing parentheses in call to 'print'. Did you mean print(\"hello\")? (Temp/ipykernel_9500/565264129.py, line 2)",
     "output_type": "error",
     "traceback": [
      "\u001b[1;36m  File \u001b[1;32m\"C:\\Users\\USER\\AppData\\Local\\Temp/ipykernel_9500/565264129.py\"\u001b[1;36m, line \u001b[1;32m2\u001b[0m\n\u001b[1;33m    print \"hello\"\u001b[0m\n\u001b[1;37m          ^\u001b[0m\n\u001b[1;31mSyntaxError\u001b[0m\u001b[1;31m:\u001b[0m Missing parentheses in call to 'print'. Did you mean print(\"hello\")?\n"
     ]
    }
   ],
   "source": [
    "def print_lyrics():\n",
    "    print \"hello\"\n",
    "    print \"hello, again\"\n",
    "\n",
    "print_lyrics()"
   ]
  },
  {
   "cell_type": "markdown",
   "id": "5f4c044a",
   "metadata": {},
   "source": [
    "此為語法錯誤(沒有括號)"
   ]
  },
  {
   "cell_type": "code",
   "execution_count": 8,
   "id": "ce2089ea",
   "metadata": {},
   "outputs": [
    {
     "name": "stdout",
     "output_type": "stream",
     "text": [
      "hello\n",
      "hello, again\n"
     ]
    }
   ],
   "source": [
    "def print_lyrics():\n",
    "    print (\"hello\")\n",
    "    print (\"hello, again\")\n",
    "\n",
    "print_lyrics()"
   ]
  },
  {
   "cell_type": "code",
   "execution_count": 9,
   "id": "a5534568",
   "metadata": {},
   "outputs": [
    {
     "ename": "SyntaxError",
     "evalue": "Missing parentheses in call to 'print'. Did you mean print(bruce)? (Temp/ipykernel_9500/3902916732.py, line 2)",
     "output_type": "error",
     "traceback": [
      "\u001b[1;36m  File \u001b[1;32m\"C:\\Users\\USER\\AppData\\Local\\Temp/ipykernel_9500/3902916732.py\"\u001b[1;36m, line \u001b[1;32m2\u001b[0m\n\u001b[1;33m    print bruce\u001b[0m\n\u001b[1;37m          ^\u001b[0m\n\u001b[1;31mSyntaxError\u001b[0m\u001b[1;31m:\u001b[0m Missing parentheses in call to 'print'. Did you mean print(bruce)?\n"
     ]
    }
   ],
   "source": [
    "def print_twice(bruce):\n",
    "    print bruce\n",
    "    print bruce\n",
    "    \n",
    "print_twice('Spam')"
   ]
  },
  {
   "cell_type": "markdown",
   "id": "d12abb97",
   "metadata": {},
   "source": [
    "此為語法錯誤(沒有括號)"
   ]
  },
  {
   "cell_type": "code",
   "execution_count": 10,
   "id": "53a9c232",
   "metadata": {},
   "outputs": [
    {
     "name": "stdout",
     "output_type": "stream",
     "text": [
      "Spam\n",
      "Spam\n"
     ]
    }
   ],
   "source": [
    "def print_twice(bruce):\n",
    "    print (bruce)\n",
    "    print (bruce)\n",
    "    \n",
    "print_twice('Spam')"
   ]
  },
  {
   "cell_type": "code",
   "execution_count": 11,
   "id": "872b4f7e",
   "metadata": {},
   "outputs": [
    {
     "ename": "SyntaxError",
     "evalue": "Missing parentheses in call to 'print'. Did you mean print(bruce)? (Temp/ipykernel_9500/2258975571.py, line 2)",
     "output_type": "error",
     "traceback": [
      "\u001b[1;36m  File \u001b[1;32m\"C:\\Users\\USER\\AppData\\Local\\Temp/ipykernel_9500/2258975571.py\"\u001b[1;36m, line \u001b[1;32m2\u001b[0m\n\u001b[1;33m    print bruce\u001b[0m\n\u001b[1;37m          ^\u001b[0m\n\u001b[1;31mSyntaxError\u001b[0m\u001b[1;31m:\u001b[0m Missing parentheses in call to 'print'. Did you mean print(bruce)?\n"
     ]
    }
   ],
   "source": [
    "def print_twice():\n",
    "    print bruce\n",
    "    print bruce\n",
    "    \n",
    "print_twice('Spam')"
   ]
  },
  {
   "cell_type": "markdown",
   "id": "c96b2c5b",
   "metadata": {},
   "source": [
    "此為語法錯誤，沒有解釋需要印的東西是甚麼"
   ]
  },
  {
   "cell_type": "code",
   "execution_count": 12,
   "id": "73c82c54",
   "metadata": {},
   "outputs": [
    {
     "ename": "SyntaxError",
     "evalue": "Missing parentheses in call to 'print'. Did you mean print(bruce)? (Temp/ipykernel_9500/3902916732.py, line 2)",
     "output_type": "error",
     "traceback": [
      "\u001b[1;36m  File \u001b[1;32m\"C:\\Users\\USER\\AppData\\Local\\Temp/ipykernel_9500/3902916732.py\"\u001b[1;36m, line \u001b[1;32m2\u001b[0m\n\u001b[1;33m    print bruce\u001b[0m\n\u001b[1;37m          ^\u001b[0m\n\u001b[1;31mSyntaxError\u001b[0m\u001b[1;31m:\u001b[0m Missing parentheses in call to 'print'. Did you mean print(bruce)?\n"
     ]
    }
   ],
   "source": [
    "def print_twice(bruce):\n",
    "    print bruce\n",
    "    print bruce\n",
    "    \n",
    "print_twice('Spam')"
   ]
  },
  {
   "cell_type": "markdown",
   "id": "b282922e",
   "metadata": {},
   "source": [
    "此為語法錯誤，修改完要印的東西之後，少打括號"
   ]
  },
  {
   "cell_type": "code",
   "execution_count": 13,
   "id": "c9db00ae",
   "metadata": {},
   "outputs": [
    {
     "name": "stdout",
     "output_type": "stream",
     "text": [
      "Spam\n",
      "Spam\n"
     ]
    }
   ],
   "source": [
    "def print_twice(bruce):\n",
    "    print (bruce)\n",
    "    print (bruce)\n",
    "    \n",
    "print_twice('Spam')"
   ]
  },
  {
   "cell_type": "code",
   "execution_count": 16,
   "id": "009f7aac",
   "metadata": {},
   "outputs": [
    {
     "ename": "SyntaxError",
     "evalue": "Missing parentheses in call to 'print'. Did you mean print(bruce)? (Temp/ipykernel_9500/3974081569.py, line 2)",
     "output_type": "error",
     "traceback": [
      "\u001b[1;36m  File \u001b[1;32m\"C:\\Users\\USER\\AppData\\Local\\Temp/ipykernel_9500/3974081569.py\"\u001b[1;36m, line \u001b[1;32m2\u001b[0m\n\u001b[1;33m    print bruce\u001b[0m\n\u001b[1;37m          ^\u001b[0m\n\u001b[1;31mSyntaxError\u001b[0m\u001b[1;31m:\u001b[0m Missing parentheses in call to 'print'. Did you mean print(bruce)?\n"
     ]
    }
   ],
   "source": [
    "def print_twice(david):\n",
    "    print bruce\n",
    "    print bruce\n",
    "    \n",
    "print_twice('Spam')"
   ]
  },
  {
   "cell_type": "markdown",
   "id": "500243d4",
   "metadata": {},
   "source": [
    "此為語法錯誤(少打括號)"
   ]
  },
  {
   "cell_type": "code",
   "execution_count": 18,
   "id": "c6cd41ab",
   "metadata": {},
   "outputs": [
    {
     "ename": "NameError",
     "evalue": "name 'bruce' is not defined",
     "output_type": "error",
     "traceback": [
      "\u001b[1;31m---------------------------------------------------------------------------\u001b[0m",
      "\u001b[1;31mNameError\u001b[0m                                 Traceback (most recent call last)",
      "\u001b[1;32m~\\AppData\\Local\\Temp/ipykernel_9500/3888404407.py\u001b[0m in \u001b[0;36m<module>\u001b[1;34m\u001b[0m\n\u001b[0;32m      3\u001b[0m     \u001b[0mprint\u001b[0m \u001b[1;33m(\u001b[0m\u001b[0mbruce\u001b[0m\u001b[1;33m)\u001b[0m\u001b[1;33m\u001b[0m\u001b[1;33m\u001b[0m\u001b[0m\n\u001b[0;32m      4\u001b[0m \u001b[1;33m\u001b[0m\u001b[0m\n\u001b[1;32m----> 5\u001b[1;33m \u001b[0mprint_twice\u001b[0m\u001b[1;33m(\u001b[0m\u001b[1;34m'Spam'\u001b[0m\u001b[1;33m)\u001b[0m\u001b[1;33m\u001b[0m\u001b[1;33m\u001b[0m\u001b[0m\n\u001b[0m",
      "\u001b[1;32m~\\AppData\\Local\\Temp/ipykernel_9500/3888404407.py\u001b[0m in \u001b[0;36mprint_twice\u001b[1;34m(david)\u001b[0m\n\u001b[0;32m      1\u001b[0m \u001b[1;32mdef\u001b[0m \u001b[0mprint_twice\u001b[0m\u001b[1;33m(\u001b[0m\u001b[0mdavid\u001b[0m\u001b[1;33m)\u001b[0m\u001b[1;33m:\u001b[0m\u001b[1;33m\u001b[0m\u001b[1;33m\u001b[0m\u001b[0m\n\u001b[1;32m----> 2\u001b[1;33m     \u001b[0mprint\u001b[0m \u001b[1;33m(\u001b[0m\u001b[0mbruce\u001b[0m\u001b[1;33m)\u001b[0m\u001b[1;33m\u001b[0m\u001b[1;33m\u001b[0m\u001b[0m\n\u001b[0m\u001b[0;32m      3\u001b[0m     \u001b[0mprint\u001b[0m \u001b[1;33m(\u001b[0m\u001b[0mbruce\u001b[0m\u001b[1;33m)\u001b[0m\u001b[1;33m\u001b[0m\u001b[1;33m\u001b[0m\u001b[0m\n\u001b[0;32m      4\u001b[0m \u001b[1;33m\u001b[0m\u001b[0m\n\u001b[0;32m      5\u001b[0m \u001b[0mprint_twice\u001b[0m\u001b[1;33m(\u001b[0m\u001b[1;34m'Spam'\u001b[0m\u001b[1;33m)\u001b[0m\u001b[1;33m\u001b[0m\u001b[1;33m\u001b[0m\u001b[0m\n",
      "\u001b[1;31mNameError\u001b[0m: name 'bruce' is not defined"
     ]
    }
   ],
   "source": [
    "def print_twice(david):\n",
    "    print (bruce)\n",
    "    print (bruce)\n",
    "    \n",
    "print_twice('Spam')"
   ]
  },
  {
   "cell_type": "markdown",
   "id": "b61be5c6",
   "metadata": {},
   "source": [
    "此為名稱錯誤，因為我們沒有定義bruce為何"
   ]
  },
  {
   "cell_type": "code",
   "execution_count": 19,
   "id": "31c833e5",
   "metadata": {},
   "outputs": [
    {
     "name": "stdout",
     "output_type": "stream",
     "text": [
      "Spam\n",
      "Spam\n"
     ]
    }
   ],
   "source": [
    "def print_twice(bruce):\n",
    "    print (bruce)\n",
    "    print (bruce)\n",
    "    \n",
    "print_twice('Spam')"
   ]
  },
  {
   "cell_type": "code",
   "execution_count": 4,
   "id": "3b9b6de9",
   "metadata": {},
   "outputs": [
    {
     "ename": "SyntaxError",
     "evalue": "invalid syntax (Temp/ipykernel_16848/3092265935.py, line 2)",
     "output_type": "error",
     "traceback": [
      "\u001b[1;36m  File \u001b[1;32m\"C:\\Users\\USER\\AppData\\Local\\Temp/ipykernel_16848/3092265935.py\"\u001b[1;36m, line \u001b[1;32m2\u001b[0m\n\u001b[1;33m    def print_twice(david)\u001b[0m\n\u001b[1;37m                          ^\u001b[0m\n\u001b[1;31mSyntaxError\u001b[0m\u001b[1;31m:\u001b[0m invalid syntax\n"
     ]
    }
   ],
   "source": [
    "import math\n",
    "def print_twice(david)\n",
    " print(david)\n",
    " print(david)\n",
    " \n",
    "print_twice('Spam')\n",
    "print_twice(math.pi)\n",
    "print_twice('Spam '*4)\n",
    "print_twice(math.cos(math.pi))\n",
    "print(\"The end!\")"
   ]
  },
  {
   "cell_type": "markdown",
   "id": "e7d77b73",
   "metadata": {},
   "source": [
    "此為語法錯誤，定義的時候沒有加冒號"
   ]
  },
  {
   "cell_type": "code",
   "execution_count": 5,
   "id": "dce171d8",
   "metadata": {},
   "outputs": [
    {
     "name": "stdout",
     "output_type": "stream",
     "text": [
      "Spam\n",
      "Spam\n",
      "3.141592653589793\n",
      "3.141592653589793\n",
      "Spam Spam Spam Spam \n",
      "Spam Spam Spam Spam \n",
      "-1.0\n",
      "-1.0\n",
      "The end!\n"
     ]
    }
   ],
   "source": [
    "import math\n",
    "def print_twice(david):\n",
    " print(david)\n",
    " print(david)\n",
    " \n",
    "print_twice('Spam')\n",
    "print_twice(math.pi)\n",
    "print_twice('Spam '*4)\n",
    "print_twice(math.cos(math.pi))\n",
    "print(\"The end!\")"
   ]
  },
  {
   "cell_type": "code",
   "execution_count": 6,
   "id": "9bdb4df7",
   "metadata": {},
   "outputs": [
    {
     "name": "stdout",
     "output_type": "stream",
     "text": [
      "Bing tiddle tiddle bang.\n",
      "Bing tiddle tiddle bang.\n"
     ]
    },
    {
     "ename": "NameError",
     "evalue": "name 'cat' is not defined",
     "output_type": "error",
     "traceback": [
      "\u001b[1;31m---------------------------------------------------------------------------\u001b[0m",
      "\u001b[1;31mNameError\u001b[0m                                 Traceback (most recent call last)",
      "\u001b[1;32m~\\AppData\\Local\\Temp/ipykernel_16848/1930209304.py\u001b[0m in \u001b[0;36m<module>\u001b[1;34m\u001b[0m\n\u001b[0;32m      6\u001b[0m \u001b[0mline2\u001b[0m \u001b[1;33m=\u001b[0m \u001b[1;34m'tiddle bang.'\u001b[0m\u001b[1;33m\u001b[0m\u001b[1;33m\u001b[0m\u001b[0m\n\u001b[0;32m      7\u001b[0m \u001b[0mcat_twice\u001b[0m\u001b[1;33m(\u001b[0m\u001b[0mline1\u001b[0m\u001b[1;33m,\u001b[0m \u001b[0mline2\u001b[0m\u001b[1;33m)\u001b[0m\u001b[1;33m\u001b[0m\u001b[1;33m\u001b[0m\u001b[0m\n\u001b[1;32m----> 8\u001b[1;33m \u001b[0mprint\u001b[0m\u001b[1;33m(\u001b[0m\u001b[0mcat\u001b[0m\u001b[1;33m)\u001b[0m\u001b[1;33m\u001b[0m\u001b[1;33m\u001b[0m\u001b[0m\n\u001b[0m",
      "\u001b[1;31mNameError\u001b[0m: name 'cat' is not defined"
     ]
    }
   ],
   "source": [
    "def cat_twice(part1, part2):\n",
    " cat = part1 + part2\n",
    " print_twice(cat)\n",
    " \n",
    "line1 = 'Bing tiddle '\n",
    "line2 = 'tiddle bang.'\n",
    "cat_twice(line1, line2)\n",
    "print(cat)"
   ]
  },
  {
   "cell_type": "markdown",
   "id": "2087804d",
   "metadata": {},
   "source": [
    "此為名稱錯誤，因為cat只存在在我們定義的函數裡面，也就是參數的局部性"
   ]
  },
  {
   "cell_type": "code",
   "execution_count": 7,
   "id": "10e5c9af",
   "metadata": {},
   "outputs": [
    {
     "name": "stdout",
     "output_type": "stream",
     "text": [
      "Bing tiddle tiddle bang.\n",
      "Bing tiddle tiddle bang.\n",
      "<function cat_twice at 0x000001AD00729700>\n"
     ]
    }
   ],
   "source": [
    "def cat_twice(part1, part2):\n",
    " cat = part1 + part2\n",
    " print_twice(cat)\n",
    " \n",
    "line1 = 'Bing tiddle '\n",
    "line2 = 'tiddle bang.'\n",
    "cat_twice(line1, line2)\n",
    "print(cat_twice)"
   ]
  },
  {
   "cell_type": "code",
   "execution_count": 8,
   "id": "d32342b7",
   "metadata": {},
   "outputs": [
    {
     "name": "stdout",
     "output_type": "stream",
     "text": [
      "Spam\n",
      "Spam\n",
      "3.141592653589793\n",
      "3.141592653589793\n",
      "Spam Spam Spam Spam \n",
      "Spam Spam Spam Spam \n",
      "-0.4480736161291701\n",
      "-0.4480736161291701\n",
      "Bing tiddle tiddle bang.\n",
      "Bing tiddle tiddle bang.\n"
     ]
    },
    {
     "ename": "NameError",
     "evalue": "name 'cat' is not defined",
     "output_type": "error",
     "traceback": [
      "\u001b[1;31m---------------------------------------------------------------------------\u001b[0m",
      "\u001b[1;31mNameError\u001b[0m                                 Traceback (most recent call last)",
      "\u001b[1;32m~\\AppData\\Local\\Temp/ipykernel_16848/3638849356.py\u001b[0m in \u001b[0;36m<module>\u001b[1;34m\u001b[0m\n\u001b[0;32m     20\u001b[0m  \u001b[0mprint_twice\u001b[0m\u001b[1;33m(\u001b[0m\u001b[0mcat\u001b[0m\u001b[1;33m)\u001b[0m\u001b[1;33m\u001b[0m\u001b[1;33m\u001b[0m\u001b[0m\n\u001b[0;32m     21\u001b[0m \u001b[1;33m\u001b[0m\u001b[0m\n\u001b[1;32m---> 22\u001b[1;33m \u001b[0mprint\u001b[0m\u001b[1;33m(\u001b[0m\u001b[0mcat\u001b[0m\u001b[1;33m)\u001b[0m\u001b[1;33m\u001b[0m\u001b[1;33m\u001b[0m\u001b[0m\n\u001b[0m",
      "\u001b[1;31mNameError\u001b[0m: name 'cat' is not defined"
     ]
    }
   ],
   "source": [
    "import math\n",
    "\n",
    "def print_twice(david):\n",
    " print(david)\n",
    " print(david)\n",
    "print_twice('Spam')\n",
    "print_twice(math.pi)\n",
    "print_twice('Spam '*4)\n",
    "\n",
    "\n",
    "# 列印 cosine(90度)\n",
    "print_twice(math.cos(90))\n",
    "\n",
    "line1 = 'Bing tiddle '\n",
    "line2 = 'tiddle bang.'\n",
    "cat_twice(line1, line2)\n",
    "\n",
    "def cat_twice(part1, part2):\n",
    " cat = part1 + part2\n",
    " print_twice(cat)\n",
    "\n",
    "print(cat)"
   ]
  },
  {
   "cell_type": "markdown",
   "id": "e85a7884",
   "metadata": {},
   "source": [
    "此為名稱錯誤，因為我們定義的cat只存在在我們定義的函數裡面"
   ]
  },
  {
   "cell_type": "code",
   "execution_count": 9,
   "id": "60b25ed3",
   "metadata": {},
   "outputs": [
    {
     "name": "stdout",
     "output_type": "stream",
     "text": [
      "Spam\n",
      "Spam\n",
      "3.141592653589793\n",
      "3.141592653589793\n",
      "Spam Spam Spam Spam \n",
      "Spam Spam Spam Spam \n",
      "-0.4480736161291701\n",
      "-0.4480736161291701\n",
      "Bing tiddle tiddle bang.\n",
      "Bing tiddle tiddle bang.\n",
      "<function cat_twice at 0x000001AD00730040>\n"
     ]
    }
   ],
   "source": [
    "import math\n",
    "\n",
    "def print_twice(david):\n",
    " print(david)\n",
    " print(david)\n",
    "print_twice('Spam')\n",
    "print_twice(math.pi)\n",
    "print_twice('Spam '*4)\n",
    "\n",
    "\n",
    "# 列印 cosine(90度)\n",
    "print_twice(math.cos(90))\n",
    "\n",
    "line1 = 'Bing tiddle '\n",
    "line2 = 'tiddle bang.'\n",
    "cat_twice(line1, line2)\n",
    "\n",
    "def cat_twice(part1, part2):\n",
    " cat = part1 + part2\n",
    " print_twice(cat)\n",
    "\n",
    "print(cat_twice)"
   ]
  },
  {
   "cell_type": "code",
   "execution_count": 10,
   "id": "9c7124c9",
   "metadata": {},
   "outputs": [
    {
     "ename": "SyntaxError",
     "evalue": "invalid syntax (Temp/ipykernel_16848/2678172023.py, line 1)",
     "output_type": "error",
     "traceback": [
      "\u001b[1;36m  File \u001b[1;32m\"C:\\Users\\USER\\AppData\\Local\\Temp/ipykernel_16848/2678172023.py\"\u001b[1;36m, line \u001b[1;32m1\u001b[0m\n\u001b[1;33m    print type(result)\u001b[0m\n\u001b[1;37m          ^\u001b[0m\n\u001b[1;31mSyntaxError\u001b[0m\u001b[1;31m:\u001b[0m invalid syntax\n"
     ]
    }
   ],
   "source": [
    "print type(result)"
   ]
  },
  {
   "cell_type": "markdown",
   "id": "63bb4083",
   "metadata": {},
   "source": [
    "語法錯誤，少了括號及分號"
   ]
  },
  {
   "cell_type": "code",
   "execution_count": 12,
   "id": "b81c6135",
   "metadata": {},
   "outputs": [
    {
     "name": "stdout",
     "output_type": "stream",
     "text": [
      "<class 'str'>\n"
     ]
    }
   ],
   "source": [
    "print(type('result'))"
   ]
  },
  {
   "cell_type": "code",
   "execution_count": 14,
   "id": "18570602",
   "metadata": {},
   "outputs": [
    {
     "ename": "SyntaxError",
     "evalue": "invalid syntax (Temp/ipykernel_16848/3845066830.py, line 1)",
     "output_type": "error",
     "traceback": [
      "\u001b[1;36m  File \u001b[1;32m\"C:\\Users\\USER\\AppData\\Local\\Temp/ipykernel_16848/3845066830.py\"\u001b[1;36m, line \u001b[1;32m1\u001b[0m\n\u001b[1;33m    print type(\"None')\u001b[0m\n\u001b[1;37m          ^\u001b[0m\n\u001b[1;31mSyntaxError\u001b[0m\u001b[1;31m:\u001b[0m invalid syntax\n"
     ]
    }
   ],
   "source": [
    "print type(\"None')"
   ]
  },
  {
   "cell_type": "markdown",
   "id": "59ae2ce6",
   "metadata": {},
   "source": [
    "語法錯誤，少了括號，分號不一樣"
   ]
  },
  {
   "cell_type": "code",
   "execution_count": 15,
   "id": "6068b8a3",
   "metadata": {},
   "outputs": [
    {
     "name": "stdout",
     "output_type": "stream",
     "text": [
      "<class 'str'>\n"
     ]
    }
   ],
   "source": [
    "print(type('None'))"
   ]
  },
  {
   "cell_type": "code",
   "execution_count": 16,
   "id": "672b51c5",
   "metadata": {},
   "outputs": [
    {
     "ename": "SyntaxError",
     "evalue": "Missing parentheses in call to 'print'. Did you mean print(a)? (Temp/ipykernel_16848/4177211119.py, line 3)",
     "output_type": "error",
     "traceback": [
      "\u001b[1;36m  File \u001b[1;32m\"C:\\Users\\USER\\AppData\\Local\\Temp/ipykernel_16848/4177211119.py\"\u001b[1;36m, line \u001b[1;32m3\u001b[0m\n\u001b[1;33m    print a\u001b[0m\n\u001b[1;37m          ^\u001b[0m\n\u001b[1;31mSyntaxError\u001b[0m\u001b[1;31m:\u001b[0m Missing parentheses in call to 'print'. Did you mean print(a)?\n"
     ]
    }
   ],
   "source": [
    "a = \"None\"\n",
    "b = None\n",
    "print a\n",
    "print b"
   ]
  },
  {
   "cell_type": "markdown",
   "id": "7ba8976e",
   "metadata": {},
   "source": [
    "語法錯誤，沒有括號"
   ]
  },
  {
   "cell_type": "code",
   "execution_count": 17,
   "id": "837a68ff",
   "metadata": {},
   "outputs": [
    {
     "name": "stdout",
     "output_type": "stream",
     "text": [
      "None\n",
      "None\n"
     ]
    }
   ],
   "source": [
    "a = \"None\"\n",
    "b = None\n",
    "print (a)\n",
    "print (b)"
   ]
  },
  {
   "cell_type": "code",
   "execution_count": 18,
   "id": "ff1f2264",
   "metadata": {},
   "outputs": [
    {
     "ename": "SyntaxError",
     "evalue": "invalid syntax (Temp/ipykernel_16848/3938047794.py, line 1)",
     "output_type": "error",
     "traceback": [
      "\u001b[1;36m  File \u001b[1;32m\"C:\\Users\\USER\\AppData\\Local\\Temp/ipykernel_16848/3938047794.py\"\u001b[1;36m, line \u001b[1;32m1\u001b[0m\n\u001b[1;33m    print type(a)\u001b[0m\n\u001b[1;37m          ^\u001b[0m\n\u001b[1;31mSyntaxError\u001b[0m\u001b[1;31m:\u001b[0m invalid syntax\n"
     ]
    }
   ],
   "source": [
    "print type(a)\n",
    "print type(b)"
   ]
  },
  {
   "cell_type": "markdown",
   "id": "88287f7f",
   "metadata": {},
   "source": [
    "語法錯誤，沒有括號"
   ]
  },
  {
   "cell_type": "code",
   "execution_count": 19,
   "id": "ae6015b0",
   "metadata": {},
   "outputs": [
    {
     "name": "stdout",
     "output_type": "stream",
     "text": [
      "<class 'str'>\n",
      "<class 'NoneType'>\n"
     ]
    }
   ],
   "source": [
    "print (type(a))\n",
    "print (type(b))"
   ]
  },
  {
   "cell_type": "code",
   "execution_count": 20,
   "id": "0768ff55",
   "metadata": {},
   "outputs": [
    {
     "ename": "SyntaxError",
     "evalue": "Missing parentheses in call to 'print'. Did you mean print(x * 5)? (Temp/ipykernel_16848/1691763823.py, line 3)",
     "output_type": "error",
     "traceback": [
      "\u001b[1;36m  File \u001b[1;32m\"C:\\Users\\USER\\AppData\\Local\\Temp/ipykernel_16848/1691763823.py\"\u001b[1;36m, line \u001b[1;32m3\u001b[0m\n\u001b[1;33m    print x * 5\u001b[0m\n\u001b[1;37m          ^\u001b[0m\n\u001b[1;31mSyntaxError\u001b[0m\u001b[1;31m:\u001b[0m Missing parentheses in call to 'print'. Did you mean print(x * 5)?\n"
     ]
    }
   ],
   "source": [
    "x = \"1\"\n",
    "y = 1\n",
    "print x * 5\n",
    "print y * 5"
   ]
  },
  {
   "cell_type": "markdown",
   "id": "8a405b2c",
   "metadata": {},
   "source": [
    "語法錯誤，沒有括號"
   ]
  },
  {
   "cell_type": "code",
   "execution_count": 21,
   "id": "27184386",
   "metadata": {},
   "outputs": [
    {
     "name": "stdout",
     "output_type": "stream",
     "text": [
      "11111\n",
      "5\n"
     ]
    }
   ],
   "source": [
    "x = \"1\"\n",
    "y = 1\n",
    "print (x * 5)\n",
    "print (y * 5)"
   ]
  },
  {
   "cell_type": "code",
   "execution_count": 22,
   "id": "5af233c7",
   "metadata": {},
   "outputs": [
    {
     "data": {
      "text/plain": [
       "['__doc__',\n",
       " '__loader__',\n",
       " '__name__',\n",
       " '__package__',\n",
       " '__spec__',\n",
       " 'acos',\n",
       " 'acosh',\n",
       " 'asin',\n",
       " 'asinh',\n",
       " 'atan',\n",
       " 'atan2',\n",
       " 'atanh',\n",
       " 'ceil',\n",
       " 'comb',\n",
       " 'copysign',\n",
       " 'cos',\n",
       " 'cosh',\n",
       " 'degrees',\n",
       " 'dist',\n",
       " 'e',\n",
       " 'erf',\n",
       " 'erfc',\n",
       " 'exp',\n",
       " 'expm1',\n",
       " 'fabs',\n",
       " 'factorial',\n",
       " 'floor',\n",
       " 'fmod',\n",
       " 'frexp',\n",
       " 'fsum',\n",
       " 'gamma',\n",
       " 'gcd',\n",
       " 'hypot',\n",
       " 'inf',\n",
       " 'isclose',\n",
       " 'isfinite',\n",
       " 'isinf',\n",
       " 'isnan',\n",
       " 'isqrt',\n",
       " 'lcm',\n",
       " 'ldexp',\n",
       " 'lgamma',\n",
       " 'log',\n",
       " 'log10',\n",
       " 'log1p',\n",
       " 'log2',\n",
       " 'modf',\n",
       " 'nan',\n",
       " 'nextafter',\n",
       " 'perm',\n",
       " 'pi',\n",
       " 'pow',\n",
       " 'prod',\n",
       " 'radians',\n",
       " 'remainder',\n",
       " 'sin',\n",
       " 'sinh',\n",
       " 'sqrt',\n",
       " 'tan',\n",
       " 'tanh',\n",
       " 'tau',\n",
       " 'trunc',\n",
       " 'ulp']"
      ]
     },
     "execution_count": 22,
     "metadata": {},
     "output_type": "execute_result"
    }
   ],
   "source": [
    "dir(math)"
   ]
  },
  {
   "cell_type": "markdown",
   "id": "5c934138",
   "metadata": {},
   "source": [
    "沒有錯誤"
   ]
  },
  {
   "cell_type": "code",
   "execution_count": 23,
   "id": "ba3510c0",
   "metadata": {},
   "outputs": [
    {
     "ename": "SyntaxError",
     "evalue": "Missing parentheses in call to 'print'. Did you mean print(math.pi)? (Temp/ipykernel_16848/1999013922.py, line 1)",
     "output_type": "error",
     "traceback": [
      "\u001b[1;36m  File \u001b[1;32m\"C:\\Users\\USER\\AppData\\Local\\Temp/ipykernel_16848/1999013922.py\"\u001b[1;36m, line \u001b[1;32m1\u001b[0m\n\u001b[1;33m    print math.pi\u001b[0m\n\u001b[1;37m          ^\u001b[0m\n\u001b[1;31mSyntaxError\u001b[0m\u001b[1;31m:\u001b[0m Missing parentheses in call to 'print'. Did you mean print(math.pi)?\n"
     ]
    }
   ],
   "source": [
    "print math.pi\n",
    "print math.cos(math.pi)\n",
    "print math.sin(math.pi / 2)"
   ]
  },
  {
   "cell_type": "markdown",
   "id": "7fbc361a",
   "metadata": {},
   "source": [
    "沒有引入math的模組物件，以及少了括號"
   ]
  },
  {
   "cell_type": "code",
   "execution_count": 25,
   "id": "6b55e158",
   "metadata": {},
   "outputs": [
    {
     "name": "stdout",
     "output_type": "stream",
     "text": [
      "3.141592653589793\n",
      "-1.0\n",
      "1.0\n"
     ]
    }
   ],
   "source": [
    "import math\n",
    "\n",
    "print (math.pi)\n",
    "print (math.cos(math.pi))\n",
    "print (math.sin(math.pi / 2))"
   ]
  },
  {
   "cell_type": "code",
   "execution_count": 26,
   "id": "9457affc",
   "metadata": {
    "scrolled": true
   },
   "outputs": [
    {
     "ename": "SyntaxError",
     "evalue": "Missing parentheses in call to 'print'. Did you mean print(pi)? (Temp/ipykernel_16848/127728741.py, line 1)",
     "output_type": "error",
     "traceback": [
      "\u001b[1;36m  File \u001b[1;32m\"C:\\Users\\USER\\AppData\\Local\\Temp/ipykernel_16848/127728741.py\"\u001b[1;36m, line \u001b[1;32m1\u001b[0m\n\u001b[1;33m    print pi\u001b[0m\n\u001b[1;37m          ^\u001b[0m\n\u001b[1;31mSyntaxError\u001b[0m\u001b[1;31m:\u001b[0m Missing parentheses in call to 'print'. Did you mean print(pi)?\n"
     ]
    }
   ],
   "source": [
    "print pi"
   ]
  },
  {
   "cell_type": "markdown",
   "id": "b20d8c09",
   "metadata": {},
   "source": [
    "沒有引入math的模組物件，少打math. , 以及少了括號"
   ]
  },
  {
   "cell_type": "code",
   "execution_count": 28,
   "id": "dd82759f",
   "metadata": {},
   "outputs": [
    {
     "name": "stdout",
     "output_type": "stream",
     "text": [
      "3.141592653589793\n"
     ]
    }
   ],
   "source": [
    "import math\n",
    "\n",
    "print (math.pi)"
   ]
  },
  {
   "cell_type": "code",
   "execution_count": 29,
   "id": "a8b1f2b0",
   "metadata": {},
   "outputs": [
    {
     "ename": "SyntaxError",
     "evalue": "invalid syntax (Temp/ipykernel_16848/997511269.py, line 1)",
     "output_type": "error",
     "traceback": [
      "\u001b[1;36m  File \u001b[1;32m\"C:\\Users\\USER\\AppData\\Local\\Temp/ipykernel_16848/997511269.py\"\u001b[1;36m, line \u001b[1;32m1\u001b[0m\n\u001b[1;33m    print cos(math.pi)\u001b[0m\n\u001b[1;37m          ^\u001b[0m\n\u001b[1;31mSyntaxError\u001b[0m\u001b[1;31m:\u001b[0m invalid syntax\n"
     ]
    }
   ],
   "source": [
    "print cos(math.pi)"
   ]
  },
  {
   "cell_type": "markdown",
   "id": "b750a2ed",
   "metadata": {},
   "source": [
    "沒有引入math的模組物件，cos前面沒有math. , 少了括號"
   ]
  },
  {
   "cell_type": "code",
   "execution_count": 32,
   "id": "2bfc8206",
   "metadata": {},
   "outputs": [
    {
     "name": "stdout",
     "output_type": "stream",
     "text": [
      "-1.0\n"
     ]
    }
   ],
   "source": [
    "import math\n",
    "\n",
    "print(math.cos(math.pi))"
   ]
  },
  {
   "cell_type": "code",
   "execution_count": 33,
   "id": "daa904c8",
   "metadata": {},
   "outputs": [
    {
     "ename": "SyntaxError",
     "evalue": "Missing parentheses in call to 'print'. Did you mean print(pi)? (Temp/ipykernel_16848/2424776977.py, line 2)",
     "output_type": "error",
     "traceback": [
      "\u001b[1;36m  File \u001b[1;32m\"C:\\Users\\USER\\AppData\\Local\\Temp/ipykernel_16848/2424776977.py\"\u001b[1;36m, line \u001b[1;32m2\u001b[0m\n\u001b[1;33m    print pi\u001b[0m\n\u001b[1;37m          ^\u001b[0m\n\u001b[1;31mSyntaxError\u001b[0m\u001b[1;31m:\u001b[0m Missing parentheses in call to 'print'. Did you mean print(pi)?\n"
     ]
    }
   ],
   "source": [
    "from math import *\n",
    "print pi\n",
    "print cos(pi)"
   ]
  },
  {
   "cell_type": "markdown",
   "id": "6312de1f",
   "metadata": {},
   "source": [
    "語法錯誤，沒有括號"
   ]
  },
  {
   "cell_type": "code",
   "execution_count": 34,
   "id": "d582a503",
   "metadata": {},
   "outputs": [
    {
     "name": "stdout",
     "output_type": "stream",
     "text": [
      "3.141592653589793\n",
      "-1.0\n"
     ]
    }
   ],
   "source": [
    "from math import *\n",
    "print (math.pi)\n",
    "print (math.cos(math.pi))"
   ]
  },
  {
   "cell_type": "code",
   "execution_count": 35,
   "id": "7e25da65",
   "metadata": {},
   "outputs": [
    {
     "ename": "SyntaxError",
     "evalue": "Missing parentheses in call to 'print'. Did you mean print(math)? (Temp/ipykernel_16848/2955418673.py, line 1)",
     "output_type": "error",
     "traceback": [
      "\u001b[1;36m  File \u001b[1;32m\"C:\\Users\\USER\\AppData\\Local\\Temp/ipykernel_16848/2955418673.py\"\u001b[1;36m, line \u001b[1;32m1\u001b[0m\n\u001b[1;33m    print math\u001b[0m\n\u001b[1;37m          ^\u001b[0m\n\u001b[1;31mSyntaxError\u001b[0m\u001b[1;31m:\u001b[0m Missing parentheses in call to 'print'. Did you mean print(math)?\n"
     ]
    }
   ],
   "source": [
    "print math"
   ]
  },
  {
   "cell_type": "markdown",
   "id": "12acd9dc",
   "metadata": {},
   "source": [
    "語法錯誤，沒有括號"
   ]
  },
  {
   "cell_type": "code",
   "execution_count": 36,
   "id": "b2fb26cd",
   "metadata": {},
   "outputs": [
    {
     "name": "stdout",
     "output_type": "stream",
     "text": [
      "<module 'math' (built-in)>\n"
     ]
    }
   ],
   "source": [
    "print(math)"
   ]
  },
  {
   "cell_type": "markdown",
   "id": "03a173e7",
   "metadata": {},
   "source": [
    "## <font color=\"red\">練習3</font>"
   ]
  },
  {
   "cell_type": "code",
   "execution_count": 37,
   "id": "7775f2de",
   "metadata": {},
   "outputs": [
    {
     "ename": "SyntaxError",
     "evalue": "Missing parentheses in call to 'print'. Did you mean print(result)? (Temp/ipykernel_16848/3149665.py, line 4)",
     "output_type": "error",
     "traceback": [
      "\u001b[1;36m  File \u001b[1;32m\"C:\\Users\\USER\\AppData\\Local\\Temp/ipykernel_16848/3149665.py\"\u001b[1;36m, line \u001b[1;32m4\u001b[0m\n\u001b[1;33m    print result\u001b[0m\n\u001b[1;37m          ^\u001b[0m\n\u001b[1;31mSyntaxError\u001b[0m\u001b[1;31m:\u001b[0m Missing parentheses in call to 'print'. Did you mean print(result)?\n"
     ]
    }
   ],
   "source": [
    "def bmi(w, h):\n",
    " h_m = h / 100.0\n",
    " result = w / (h_m * h_m)\n",
    " print result\n",
    " \n",
    "h = int(raw_input(\"Please enter height in (cm): \"))\n",
    "w = float(raw_input(\"Please enter weight in (kg): \"))\n",
    "bmi(w,h)"
   ]
  },
  {
   "cell_type": "markdown",
   "id": "baf53fee",
   "metadata": {},
   "source": [
    "語法錯誤，少了括號;Python 2.x 以 raw_input() 接受 user input (使用者輸入)，Python 3.x 以 input() 接\n",
    "受 user input (使用者輸入)，順序及縮排也有錯誤"
   ]
  },
  {
   "cell_type": "code",
   "execution_count": null,
   "id": "a67dc318",
   "metadata": {},
   "outputs": [],
   "source": [
    "h = int(input(\"Please enter height in (cm): \"))\n",
    "w = int(input(\"Please enter weight in (kg): \"))\n",
    "\n",
    "def bmi(w, h):\n",
    "    h_m = h / 100.0\n",
    "    result = w / (h_m * h_m)\n",
    "    print (result)\n",
    "    \n",
    "bmi(w,h)"
   ]
  },
  {
   "cell_type": "code",
   "execution_count": 5,
   "id": "1b63be80",
   "metadata": {},
   "outputs": [
    {
     "ename": "SyntaxError",
     "evalue": "Missing parentheses in call to 'print'. Did you mean print(f)? (Temp/ipykernel_14540/1329947378.py, line 3)",
     "output_type": "error",
     "traceback": [
      "\u001b[1;36m  File \u001b[1;32m\"C:\\Users\\USER\\AppData\\Local\\Temp/ipykernel_14540/1329947378.py\"\u001b[1;36m, line \u001b[1;32m3\u001b[0m\n\u001b[1;33m    print f\u001b[0m\n\u001b[1;37m          ^\u001b[0m\n\u001b[1;31mSyntaxError\u001b[0m\u001b[1;31m:\u001b[0m Missing parentheses in call to 'print'. Did you mean print(f)?\n"
     ]
    }
   ],
   "source": [
    "def c_to_f(c):\n",
    " f = c * 9 / 5.0 + 32\n",
    " print f\n",
    " \n",
    "def f_to_c(f):\n",
    " c = (f - 32) * 5 / 9.0\n",
    " print c\n",
    " \n",
    "d1 = float(raw_input(\"please enter Celsius degree:\"))\n",
    "d2 = float(raw_input(\"please enter Fahrenheit degree\"))\n",
    "c_to_f(d1)\n",
    "f_to_c(d2)\n"
   ]
  },
  {
   "cell_type": "markdown",
   "id": "02507634",
   "metadata": {},
   "source": [
    "語法錯誤，沒有括號，縮排錯誤，Python 2.x 以 raw_input() 接受 user input (使用者輸入)，Python 3.x 以 input() 接\n",
    "受 user input (使用者輸入)，順序錯誤"
   ]
  },
  {
   "cell_type": "code",
   "execution_count": null,
   "id": "027d0d56",
   "metadata": {},
   "outputs": [],
   "source": [
    "d1 = float(input(\"please enter Celsius degree:\"))\n",
    "d2 = float(input(\"please enter Fahrenheit degree:\"))\n",
    "\n",
    "\n",
    "def c_to_f(c):\n",
    "    f = c * 9 / 5.0 + 32\n",
    "    print (f)\n",
    " \n",
    "def f_to_c(f):\n",
    "    c = (f - 32) * 5 / 9.0\n",
    "    print (c)\n",
    " \n",
    "    \n",
    "c_to_f(d1)\n",
    "f_to_c(d2)"
   ]
  },
  {
   "cell_type": "markdown",
   "id": "f1c53609",
   "metadata": {},
   "source": [
    "Exercise 3.1"
   ]
  },
  {
   "cell_type": "code",
   "execution_count": 1,
   "id": "4cdf86d0",
   "metadata": {},
   "outputs": [
    {
     "name": "stdout",
     "output_type": "stream",
     "text": [
      "please enter wordugug\n",
      "                                                                      \n",
      "ugug\n"
     ]
    }
   ],
   "source": [
    "s = str(input(\"please enter word: \"))\n",
    "\n",
    "def right_justify(s):\n",
    "    print(' '*70)\n",
    "    print(s)\n",
    "    \n",
    "right_justify(s)"
   ]
  },
  {
   "cell_type": "markdown",
   "id": "021b21ed",
   "metadata": {},
   "source": [
    "Exercise 3.2"
   ]
  },
  {
   "cell_type": "code",
   "execution_count": 2,
   "id": "57ac4453",
   "metadata": {},
   "outputs": [
    {
     "name": "stdout",
     "output_type": "stream",
     "text": [
      "spam\n",
      "spam\n"
     ]
    }
   ],
   "source": [
    "def do_twice(f):\n",
    "    f()\n",
    "    f()\n",
    "    \n",
    "def print_spam():\n",
    "    print('spam')\n",
    "\n",
    "do_twice(print_spam)"
   ]
  },
  {
   "cell_type": "code",
   "execution_count": 3,
   "id": "5043e0fd",
   "metadata": {},
   "outputs": [],
   "source": [
    "def print_twice(bruce):\n",
    "    print(bruce)\n",
    "    print(bruce)\n",
    "    "
   ]
  },
  {
   "cell_type": "code",
   "execution_count": 25,
   "id": "49072316",
   "metadata": {},
   "outputs": [
    {
     "name": "stdout",
     "output_type": "stream",
     "text": [
      "bruce\n",
      "bruce\n",
      "bruce\n",
      "bruce\n"
     ]
    }
   ],
   "source": [
    "def do_twice(f):\n",
    "    f()\n",
    "    f()\n",
    "    \n",
    "def print_twice():\n",
    "    print('bruce')\n",
    "    print('bruce')\n",
    "    \n",
    "do_twice(print_twice)"
   ]
  },
  {
   "cell_type": "markdown",
   "id": "5512e662",
   "metadata": {},
   "source": [
    "Exercise 3.3"
   ]
  },
  {
   "cell_type": "code",
   "execution_count": 19,
   "id": "1d7c394c",
   "metadata": {},
   "outputs": [
    {
     "name": "stdout",
     "output_type": "stream",
     "text": [
      "+ - - - - + - - - - +\n",
      "|         |         |\n",
      "|         |         |\n",
      "|         |         |\n",
      "|         |         |\n",
      "+ - - - - + - - - - +\n",
      "|         |         |\n",
      "|         |         |\n",
      "|         |         |\n",
      "|         |         |\n",
      "+ - - - - + - - - - +\n"
     ]
    }
   ],
   "source": [
    "print('+ - - - - + - - - - +')\n",
    "print('|         |         |')\n",
    "print('|         |         |')\n",
    "print('|         |         |')\n",
    "print('|         |         |')\n",
    "print('+ - - - - + - - - - +')\n",
    "print('|         |         |')\n",
    "print('|         |         |')\n",
    "print('|         |         |')\n",
    "print('|         |         |')\n",
    "print('+ - - - - + - - - - +')"
   ]
  },
  {
   "cell_type": "code",
   "execution_count": null,
   "id": "5a4d77f0",
   "metadata": {},
   "outputs": [],
   "source": []
  }
 ],
 "metadata": {
  "kernelspec": {
   "display_name": "Python 3 (ipykernel)",
   "language": "python",
   "name": "python3"
  },
  "language_info": {
   "codemirror_mode": {
    "name": "ipython",
    "version": 3
   },
   "file_extension": ".py",
   "mimetype": "text/x-python",
   "name": "python",
   "nbconvert_exporter": "python",
   "pygments_lexer": "ipython3",
   "version": "3.9.7"
  }
 },
 "nbformat": 4,
 "nbformat_minor": 5
}
